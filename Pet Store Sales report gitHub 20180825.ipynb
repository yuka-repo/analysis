{
 "cells": [
  {
   "cell_type": "markdown",
   "metadata": {},
   "source": [
    "# gitHub"
   ]
  },
  {
   "cell_type": "code",
   "execution_count": 1,
   "metadata": {
    "collapsed": false
   },
   "outputs": [],
   "source": [
    "import pandas as pd\n",
    "import numpy as np\n",
    "import matplotlib.pyplot as plt\n",
    "\n",
    "import utils\n",
    "\n",
    "import re\n",
    "from os import path\n",
    "\n",
    "from datetime import datetime\n",
    "from dateutil.relativedelta import relativedelta\n",
    "\n",
    "%matplotlib inline\n",
    "%load_ext autoreload\n",
    "%autoreload 2"
   ]
  },
  {
   "cell_type": "markdown",
   "metadata": {},
   "source": [
    "## Input data"
   ]
  },
  {
   "cell_type": "code",
   "execution_count": 2,
   "metadata": {
    "collapsed": true
   },
   "outputs": [],
   "source": [
    "# Enter inputs\n",
    "current_FY_start =  '2017/4/1'# 今年度が始まったカレンダー年月日 'YYYY/M/D'  (例：2017/4/1)\n",
    "report_date = '2017/8/31'     # レポートする最終日 'YYYY/M/D'　(例：2017/8/31　2017年8月の終わりまで)\n",
    "\n",
    "num_yr_to_aggregate = 5       #　集計する年数。例：5 (過去5年)"
   ]
  },
  {
   "cell_type": "code",
   "execution_count": 3,
   "metadata": {
    "collapsed": false,
    "scrolled": true
   },
   "outputs": [],
   "source": [
    "# Working directory　読み込むファイルのあるディレクトリを記入して下さい\n",
    "filePath='/Users/yuka/Documents/Python/gitHub/Option Sales/'\n",
    "#filePath=r'C:\\\\Users\\\\ymatsukawa\\\\Documents\\\\Project\\\\OptionSales\\\\gitHub\\\\'\n",
    "\n",
    "\n",
    "\n",
    "# Output files 結果を出力するディレクトリーを記入して下さい\n",
    "#outputPath = 'C:\\\\Users\\\\ymatsukawa\\\\Documents\\\\Project\\\\OptionSales\\\\gitHub\\\\output\\\\'\n",
    "outputPath = '/Users/yuka/Documents/Python/gitHub/Option Sales/output/'\n",
    "\n",
    "\n",
    "# Enter the file name 読み込むファイル名を記入して下さい\n",
    "\n",
    "# KDC data KDCデータ\n",
    "#kdc_last10FY = 'Sales - Soft・Serv_Prod_FY2010-2016.xlsx' # KDC 過去10FY販売データ\n",
    "kdc_thisFY = 'Sales FY2018_05032018.xlsx' # KDC 昨年度FY販売データ\n",
    "kdc_lastFY = 'Sales FY2017_05032018.xlsx' # KDC 今年度FY販売データ\n",
    "\n",
    "# TA data　TAデータ\n",
    "taDict = dict()\n",
    "taDict[0] = 'TA_Sales_Report_FY2017_gitHub.xlsx'\n",
    "            \n",
    "taDict[4] = 'TA_Sales_Report_FY201804_gitHub.xlsx' # TA 今年度FY 4月販売データ\n",
    "taDict[5] = 'TA_Sales_Report_FY201805_gitHub.xlsx' # TA 今年度FY 5月販売データ\n",
    "taDict[6] = 'TA_Sales_Report_FY201806_gitHub.xlsx' # TA 今年度FY 6月販売データ\n",
    "taDict[7] = 'TA_Sales_Report_FY201807_gitHub.xlsx' # TA 今年度FY 7月販売データ\n",
    "taDict[8] = 'TA_Sales_Report_FY201808_gitHub.xlsx' # TA 今年度FY 8月販売データ\n",
    "taDict[9] = r''\n",
    "taDict[10] = r''\n",
    "taDict[11] = r''\n",
    "taDict[12] = r''\n",
    "taDict[1] = r''\n",
    "taDict[2] = r''\n",
    "taDict[3] = r''\n",
    "\n",
    "ta_margin =  'TA傘下の各拠点のマージン率.xlsx' # TA マージン率\n",
    "\n",
    "ta_ex_thisFY = 'Exchange Rate_FY2018.xlsx' # TA 今年度為替レート\n",
    "ta_ex_lastFY = 'Exchange Rate_FY2017.xlsx' # TA 昨年度為替レート"
   ]
  },
  {
   "cell_type": "code",
   "execution_count": 4,
   "metadata": {
    "collapsed": false
   },
   "outputs": [],
   "source": [
    "current_FY_start = pd.Timestamp(current_FY_start)\n",
    "last_FY_start = current_FY_start - relativedelta(years = 1)\n",
    "report_date = pd.Timestamp(report_date)"
   ]
  },
  {
   "cell_type": "code",
   "execution_count": 5,
   "metadata": {
    "collapsed": false
   },
   "outputs": [
    {
     "data": {
      "text/plain": [
       "'/Users/yuka/Documents/Python/gitHub/Option Sales/Sales FY2017_05032018.xlsx'"
      ]
     },
     "execution_count": 5,
     "metadata": {},
     "output_type": "execute_result"
    }
   ],
   "source": [
    "path.abspath(filePath+kdc_lastFY)"
   ]
  },
  {
   "cell_type": "markdown",
   "metadata": {},
   "source": [
    "## KDC Data"
   ]
  },
  {
   "cell_type": "code",
   "execution_count": 6,
   "metadata": {
    "collapsed": false
   },
   "outputs": [],
   "source": [
    "# Read in KDC data files　KDCデータファイルの読み込み\n",
    "#kdc1 = pd.read_excel(filePath + kdc_last10FY,  skiprows=3)\n",
    "\n",
    "kdc2 = pd.read_excel(path.abspath(filePath + kdc_lastFY),  skiprows=3)\n",
    "kdc3 = pd.read_excel(path.abspath(filePath + kdc_thisFY),  skiprows=3)\n",
    "#kdc2 = pd.read_excel(filePath + kdc_lastFY,  skiprows=3)\n",
    "#kdc3 = pd.read_excel(filePath + kdc_thisFY,  skiprows=3)"
   ]
  },
  {
   "cell_type": "code",
   "execution_count": 7,
   "metadata": {
    "collapsed": false
   },
   "outputs": [
    {
     "name": "stdout",
     "output_type": "stream",
     "text": [
      "file 2 (row, col):  (80217, 15)\n",
      "file 3 (row, col):  (35308, 15)\n",
      "Number of duplicates to be removed:  7520\n",
      "Total: (row, col) (108005, 15)\n"
     ]
    }
   ],
   "source": [
    "# Concatenate data & 行数確認\n",
    "kdc_data = pd.concat([kdc2, kdc3])\n",
    "#kdc_data = pd.concat([kdc1, kdc2, kdc3])\n",
    "\n",
    "#print('file 1 (row, col): ', kdc1.shape)\n",
    "print('file 2 (row, col): ', kdc2.shape)\n",
    "print('file 3 (row, col): ', kdc3.shape)\n",
    "\n",
    "print('Number of duplicates to be removed: ', kdc_data[kdc_data.duplicated()].shape[0])\n",
    "kdc_data.drop_duplicates(inplace=True)\n",
    "print('Total: (row, col)', kdc_data.shape)"
   ]
  },
  {
   "cell_type": "code",
   "execution_count": 8,
   "metadata": {
    "collapsed": false
   },
   "outputs": [
    {
     "data": {
      "text/html": [
       "<div>\n",
       "<table border=\"1\" class=\"dataframe\">\n",
       "  <thead>\n",
       "    <tr style=\"text-align: right;\">\n",
       "      <th></th>\n",
       "      <th>Unnamed: 0</th>\n",
       "      <th>Sort Key</th>\n",
       "      <th>Company Code</th>\n",
       "      <th>Company Name</th>\n",
       "      <th>Actual Sales</th>\n",
       "      <th>Actual Currency</th>\n",
       "      <th>Plan Sales</th>\n",
       "      <th>Plan Currency</th>\n",
       "      <th>Ratio to Plan</th>\n",
       "      <th>3rd Party or Inter</th>\n",
       "      <th>Year / Month</th>\n",
       "      <th>Material Name</th>\n",
       "      <th>Company Group Name</th>\n",
       "      <th>Sales Quantity</th>\n",
       "      <th>Actual Sales (Ex)</th>\n",
       "    </tr>\n",
       "  </thead>\n",
       "  <tbody>\n",
       "    <tr>\n",
       "      <th>0</th>\n",
       "      <td>NaN</td>\n",
       "      <td>1</td>\n",
       "      <td>1001</td>\n",
       "      <td>Alley Cats Pet Shop</td>\n",
       "      <td>373138.0</td>\n",
       "      <td>JPY</td>\n",
       "      <td>NaN</td>\n",
       "      <td>JPY</td>\n",
       "      <td>NaN</td>\n",
       "      <td>2</td>\n",
       "      <td>201604</td>\n",
       "      <td>Non target products</td>\n",
       "      <td>08. Pow Production-G1</td>\n",
       "      <td>33.0</td>\n",
       "      <td>373138.0</td>\n",
       "    </tr>\n",
       "    <tr>\n",
       "      <th>1</th>\n",
       "      <td>NaN</td>\n",
       "      <td>1</td>\n",
       "      <td>1001</td>\n",
       "      <td>Alley Cats Pet Shop</td>\n",
       "      <td>-68318.0</td>\n",
       "      <td>JPY</td>\n",
       "      <td>NaN</td>\n",
       "      <td>JPY</td>\n",
       "      <td>NaN</td>\n",
       "      <td>2</td>\n",
       "      <td>201604</td>\n",
       "      <td>Non target products</td>\n",
       "      <td>08. Pow Production-G1</td>\n",
       "      <td>15.0</td>\n",
       "      <td>-68318.0</td>\n",
       "    </tr>\n",
       "  </tbody>\n",
       "</table>\n",
       "</div>"
      ],
      "text/plain": [
       "   Unnamed: 0  Sort Key  Company Code         Company Name  Actual Sales  \\\n",
       "0         NaN         1          1001  Alley Cats Pet Shop      373138.0   \n",
       "1         NaN         1          1001  Alley Cats Pet Shop      -68318.0   \n",
       "\n",
       "  Actual Currency  Plan Sales Plan Currency  Ratio to Plan  \\\n",
       "0             JPY         NaN           JPY            NaN   \n",
       "1             JPY         NaN           JPY            NaN   \n",
       "\n",
       "   3rd Party or Inter  Year / Month        Material Name  \\\n",
       "0                   2        201604  Non target products   \n",
       "1                   2        201604  Non target products   \n",
       "\n",
       "      Company Group Name  Sales Quantity  Actual Sales (Ex)  \n",
       "0  08. Pow Production-G1            33.0           373138.0  \n",
       "1  08. Pow Production-G1            15.0           -68318.0  "
      ]
     },
     "execution_count": 8,
     "metadata": {},
     "output_type": "execute_result"
    }
   ],
   "source": [
    "kdc_data.head(2)"
   ]
  },
  {
   "cell_type": "code",
   "execution_count": 9,
   "metadata": {
    "collapsed": false
   },
   "outputs": [
    {
     "data": {
      "text/html": [
       "<div>\n",
       "<table border=\"1\" class=\"dataframe\">\n",
       "  <thead>\n",
       "    <tr style=\"text-align: right;\">\n",
       "      <th></th>\n",
       "      <th>Year / Month</th>\n",
       "      <th>Company Code</th>\n",
       "      <th>Company Name</th>\n",
       "      <th>Company Group Name</th>\n",
       "      <th>3rd Party or Inter</th>\n",
       "      <th>Material Name</th>\n",
       "      <th>Sales Quantity</th>\n",
       "      <th>Actual Sales</th>\n",
       "      <th>Plan Currency</th>\n",
       "      <th>Actual Sales (Ex)</th>\n",
       "    </tr>\n",
       "  </thead>\n",
       "  <tbody>\n",
       "    <tr>\n",
       "      <th>0</th>\n",
       "      <td>201604</td>\n",
       "      <td>1001</td>\n",
       "      <td>Alley Cats Pet Shop</td>\n",
       "      <td>08. Pow Production-G1</td>\n",
       "      <td>2</td>\n",
       "      <td>Non target products</td>\n",
       "      <td>33.0</td>\n",
       "      <td>373138.0</td>\n",
       "      <td>JPY</td>\n",
       "      <td>373138.0</td>\n",
       "    </tr>\n",
       "    <tr>\n",
       "      <th>1</th>\n",
       "      <td>201604</td>\n",
       "      <td>1001</td>\n",
       "      <td>Alley Cats Pet Shop</td>\n",
       "      <td>08. Pow Production-G1</td>\n",
       "      <td>2</td>\n",
       "      <td>Non target products</td>\n",
       "      <td>15.0</td>\n",
       "      <td>-68318.0</td>\n",
       "      <td>JPY</td>\n",
       "      <td>-68318.0</td>\n",
       "    </tr>\n",
       "  </tbody>\n",
       "</table>\n",
       "</div>"
      ],
      "text/plain": [
       "   Year / Month  Company Code         Company Name     Company Group Name  \\\n",
       "0        201604          1001  Alley Cats Pet Shop  08. Pow Production-G1   \n",
       "1        201604          1001  Alley Cats Pet Shop  08. Pow Production-G1   \n",
       "\n",
       "   3rd Party or Inter        Material Name  Sales Quantity  Actual Sales  \\\n",
       "0                   2  Non target products            33.0      373138.0   \n",
       "1                   2  Non target products            15.0      -68318.0   \n",
       "\n",
       "  Plan Currency  Actual Sales (Ex)  \n",
       "0           JPY           373138.0  \n",
       "1           JPY           -68318.0  "
      ]
     },
     "execution_count": 9,
     "metadata": {},
     "output_type": "execute_result"
    }
   ],
   "source": [
    "# Select only necessary columns 必要なカラムだけに限定\n",
    "kdc_data2 = kdc_data[['Year / Month','Company Code', 'Company Name', 'Company Group Name','3rd Party or Inter',  \n",
    "                      'Material Name','Sales Quantity','Actual Sales','Plan Currency' ,'Actual Sales (Ex)' ]].copy()\n",
    "kdc_data2.head(2)"
   ]
  },
  {
   "cell_type": "code",
   "execution_count": 10,
   "metadata": {
    "collapsed": false
   },
   "outputs": [
    {
     "name": "stdout",
     "output_type": "stream",
     "text": [
      "(108005, 10)\n",
      "Total: (row, col) (71664, 11)\n"
     ]
    },
    {
     "data": {
      "text/html": [
       "<div>\n",
       "<table border=\"1\" class=\"dataframe\">\n",
       "  <thead>\n",
       "    <tr style=\"text-align: right;\">\n",
       "      <th></th>\n",
       "      <th>Year / Month</th>\n",
       "      <th>Company Code</th>\n",
       "      <th>Company Name</th>\n",
       "      <th>Company Group Name</th>\n",
       "      <th>3rd Party or Inter</th>\n",
       "      <th>Material Name</th>\n",
       "      <th>Sales Quantity</th>\n",
       "      <th>Actual Sales</th>\n",
       "      <th>Plan Currency</th>\n",
       "      <th>ExRate</th>\n",
       "      <th>Actual Sales (Ex)</th>\n",
       "    </tr>\n",
       "  </thead>\n",
       "  <tbody>\n",
       "    <tr>\n",
       "      <th>7768</th>\n",
       "      <td>201604</td>\n",
       "      <td>1101</td>\n",
       "      <td>Amazin' Animals Pet Shop</td>\n",
       "      <td>09. Pow Japan</td>\n",
       "      <td>3</td>\n",
       "      <td>Non target products</td>\n",
       "      <td>4.0</td>\n",
       "      <td>21000.0</td>\n",
       "      <td>JPY</td>\n",
       "      <td>1.0</td>\n",
       "      <td>21000.0</td>\n",
       "    </tr>\n",
       "    <tr>\n",
       "      <th>7769</th>\n",
       "      <td>201604</td>\n",
       "      <td>1101</td>\n",
       "      <td>Amazin' Animals Pet Shop</td>\n",
       "      <td>09. Pow Japan</td>\n",
       "      <td>3</td>\n",
       "      <td>Non target products</td>\n",
       "      <td>4.0</td>\n",
       "      <td>5460.0</td>\n",
       "      <td>JPY</td>\n",
       "      <td>1.0</td>\n",
       "      <td>5460.0</td>\n",
       "    </tr>\n",
       "  </tbody>\n",
       "</table>\n",
       "</div>"
      ],
      "text/plain": [
       "      Year / Month  Company Code              Company Name Company Group Name  \\\n",
       "7768        201604          1101  Amazin' Animals Pet Shop      09. Pow Japan   \n",
       "7769        201604          1101  Amazin' Animals Pet Shop      09. Pow Japan   \n",
       "\n",
       "      3rd Party or Inter        Material Name  Sales Quantity  Actual Sales  \\\n",
       "7768                   3  Non target products             4.0       21000.0   \n",
       "7769                   3  Non target products             4.0        5460.0   \n",
       "\n",
       "     Plan Currency  ExRate  Actual Sales (Ex)  \n",
       "7768           JPY     1.0            21000.0  \n",
       "7769           JPY     1.0             5460.0  "
      ]
     },
     "execution_count": 10,
     "metadata": {},
     "output_type": "execute_result"
    }
   ],
   "source": [
    "# Clean up KDC data KDCデータのクリーンアップ\n",
    "\n",
    "# Delete rows if necessary columns are null 　計算に必要なセルが空白な記録は除く\n",
    "print(kdc_data2.shape)\n",
    "\n",
    "kdc_data2.dropna(how='all', inplace=True)  \n",
    "kdc_data2 = kdc_data2[kdc_data2['Material Name'].notnull()]\n",
    "kdc_data2 = kdc_data2[kdc_data2['Actual Sales'].notnull()]\n",
    "kdc_data2 = kdc_data2[kdc_data2['Year / Month'].notnull()]\n",
    "kdc_data2 = kdc_data2[kdc_data2['Company Group Name'].notnull()]\n",
    "\n",
    "# Limit to 3rd party only　3rd partyのみに\n",
    "kdc_data2['3rd Party or Inter']=kdc_data2['3rd Party or Inter'].astype(int)\n",
    "kdc_data2 = kdc_data2[(kdc_data2['3rd Party or Inter'])==3]\n",
    "\n",
    "# Remove \"Production-G and Production-G2\". Don't need them.　販社名が”*Production-”は除く\n",
    "#groups = ['01.KDE-G', '04.KDA-G', '05.OCEANIA-G', '06.KDAS-G', '07.KDCN', '09.KDJ', '11.KTST']\n",
    "#kdc_data2 = kdc_data2[kdc_data2['Company Group Name'].isin(groups)]\n",
    "kdc_data2 = kdc_data2[~kdc_data2['Company Group Name'].str.contains('roduction')]\n",
    "\n",
    "\n",
    "# Convert to year/month to int\n",
    "kdc_data2['Year / Month'] = kdc_data2['Year / Month'].astype(int)\n",
    "#data_kdc2['3rd Party or Inter'] = data_kdc2['3rd Party or Inter'].astype(int)\n",
    "\n",
    "# Add 'ExRate' column\n",
    "kdc_data2['ExRate'] = kdc_data2['Actual Sales (Ex)']/kdc_data2['Actual Sales']\n",
    "\n",
    "# Reorder columns カラムの順番を分かり易く変更\n",
    "cols = ['Year / Month','Company Code', 'Company Name', 'Company Group Name','3rd Party or Inter',  \n",
    "        'Material Name','Sales Quantity','Actual Sales','Plan Currency','ExRate','Actual Sales (Ex)' ]\n",
    "\n",
    "kdc_data2 = kdc_data2[cols]\n",
    "\n",
    "print('Total: (row, col)', kdc_data2.shape)\n",
    "kdc_data2.head(2)"
   ]
  },
  {
   "cell_type": "markdown",
   "metadata": {},
   "source": [
    "## TA Data"
   ]
  },
  {
   "cell_type": "code",
   "execution_count": 11,
   "metadata": {
    "collapsed": false
   },
   "outputs": [
    {
     "name": "stdout",
     "output_type": "stream",
     "text": [
      "Reading TA_Sales_Report_FY2017_gitHub.xlsx (13078, 13)\n",
      "Reading TA_Sales_Report_FY201804_gitHub.xlsx (939, 13)\n",
      "Reading TA_Sales_Report_FY201805_gitHub.xlsx (358, 13)\n",
      "Reading TA_Sales_Report_FY201806_gitHub.xlsx (445, 13)\n",
      "Reading TA_Sales_Report_FY201807_gitHub.xlsx (333, 13)\n",
      "Reading TA_Sales_Report_FY201808_gitHub.xlsx (372, 13)\n",
      "(15525, 13)\n"
     ]
    }
   ],
   "source": [
    "# Read in this FY TA data (new format) TAデータの読み込み\n",
    "\n",
    "ta_files_to_read = [taDict[k] for k in sorted(taDict.keys()) if len(taDict[k])>0]\n",
    "#ta_files_to_read = ['TA_sales_report_June_activation_items_2017_07_10.xlsx']\n",
    "ta_data =pd.DataFrame([])\n",
    "for f in ta_files_to_read:\n",
    "    temp = pd.read_excel(filePath + f)#, sheetname='sales details')\n",
    "    print('Reading ' + f, temp.shape)\n",
    "    # set column names because it changed in the August file\n",
    "    temp.columns=['document number', 'customer no', 'Partner', 'booking date', 'Item No','KD Item No', 'description', \n",
    "                  'QTY', 'landed price','total landed price', 'amount piece', 'total amount', 'Date']\n",
    "    ta_data = ta_data.append(temp, ignore_index = True)  \n",
    " \n",
    "print(ta_data.shape)    "
   ]
  },
  {
   "cell_type": "code",
   "execution_count": 12,
   "metadata": {
    "collapsed": false
   },
   "outputs": [
    {
     "data": {
      "text/html": [
       "<div>\n",
       "<table border=\"1\" class=\"dataframe\">\n",
       "  <thead>\n",
       "    <tr style=\"text-align: right;\">\n",
       "      <th></th>\n",
       "      <th>document number</th>\n",
       "      <th>customer no</th>\n",
       "      <th>Partner</th>\n",
       "      <th>booking date</th>\n",
       "      <th>Item No</th>\n",
       "      <th>KD Item No</th>\n",
       "      <th>description</th>\n",
       "      <th>QTY</th>\n",
       "      <th>landed price</th>\n",
       "      <th>total landed price</th>\n",
       "      <th>amount piece</th>\n",
       "      <th>total amount</th>\n",
       "      <th>Date</th>\n",
       "    </tr>\n",
       "  </thead>\n",
       "  <tbody>\n",
       "    <tr>\n",
       "      <th>0</th>\n",
       "      <td>1101773280</td>\n",
       "      <td>32866</td>\n",
       "      <td>Tier GmbH</td>\n",
       "      <td>2016-04-01 00:00:00</td>\n",
       "      <td>654010094</td>\n",
       "      <td>NaN</td>\n",
       "      <td>Facial Massage Roller for Cats</td>\n",
       "      <td>1</td>\n",
       "      <td>NaN</td>\n",
       "      <td>NaN</td>\n",
       "      <td>47.93</td>\n",
       "      <td>47.93</td>\n",
       "      <td>2016/04</td>\n",
       "    </tr>\n",
       "    <tr>\n",
       "      <th>1</th>\n",
       "      <td>1101772220</td>\n",
       "      <td>999003215</td>\n",
       "      <td>TA Deutschland GmbH</td>\n",
       "      <td>2016-04-01 00:00:00</td>\n",
       "      <td>654010094</td>\n",
       "      <td>NaN</td>\n",
       "      <td>Facial Massage Roller for Cats</td>\n",
       "      <td>8</td>\n",
       "      <td>NaN</td>\n",
       "      <td>NaN</td>\n",
       "      <td>35.1275</td>\n",
       "      <td>281.02</td>\n",
       "      <td>2016/04</td>\n",
       "    </tr>\n",
       "    <tr>\n",
       "      <th>2</th>\n",
       "      <td>1101772991</td>\n",
       "      <td>999003215</td>\n",
       "      <td>TA Deutschland GmbH</td>\n",
       "      <td>2016-04-01 00:00:00</td>\n",
       "      <td>653010091</td>\n",
       "      <td>NaN</td>\n",
       "      <td>U-pet Carriers</td>\n",
       "      <td>1</td>\n",
       "      <td>NaN</td>\n",
       "      <td>NaN</td>\n",
       "      <td>133.34</td>\n",
       "      <td>133.34</td>\n",
       "      <td>2016/04</td>\n",
       "    </tr>\n",
       "  </tbody>\n",
       "</table>\n",
       "</div>"
      ],
      "text/plain": [
       "  document number customer no              Partner         booking date  \\\n",
       "0      1101773280       32866            Tier GmbH  2016-04-01 00:00:00   \n",
       "1      1101772220   999003215  TA Deutschland GmbH  2016-04-01 00:00:00   \n",
       "2      1101772991   999003215  TA Deutschland GmbH  2016-04-01 00:00:00   \n",
       "\n",
       "     Item No KD Item No                     description QTY landed price  \\\n",
       "0  654010094        NaN  Facial Massage Roller for Cats   1          NaN   \n",
       "1  654010094        NaN  Facial Massage Roller for Cats   8          NaN   \n",
       "2  653010091        NaN                  U-pet Carriers   1          NaN   \n",
       "\n",
       "  total landed price amount piece total amount     Date  \n",
       "0                NaN        47.93        47.93  2016/04  \n",
       "1                NaN      35.1275       281.02  2016/04  \n",
       "2                NaN       133.34       133.34  2016/04  "
      ]
     },
     "execution_count": 12,
     "metadata": {},
     "output_type": "execute_result"
    }
   ],
   "source": [
    "ta_data.head(3)"
   ]
  },
  {
   "cell_type": "code",
   "execution_count": 13,
   "metadata": {
    "collapsed": false
   },
   "outputs": [
    {
     "name": "stdout",
     "output_type": "stream",
     "text": [
      "(15501, 13)\n"
     ]
    },
    {
     "data": {
      "text/html": [
       "<div>\n",
       "<table border=\"1\" class=\"dataframe\">\n",
       "  <thead>\n",
       "    <tr style=\"text-align: right;\">\n",
       "      <th></th>\n",
       "      <th>document number</th>\n",
       "      <th>customer no</th>\n",
       "      <th>Partner</th>\n",
       "      <th>booking date</th>\n",
       "      <th>Item No</th>\n",
       "      <th>KD Item No</th>\n",
       "      <th>description</th>\n",
       "      <th>QTY</th>\n",
       "      <th>landed price</th>\n",
       "      <th>total landed price</th>\n",
       "      <th>amount piece</th>\n",
       "      <th>total amount</th>\n",
       "      <th>Date</th>\n",
       "    </tr>\n",
       "  </thead>\n",
       "  <tbody>\n",
       "    <tr>\n",
       "      <th>0</th>\n",
       "      <td>1101773280</td>\n",
       "      <td>1101773280</td>\n",
       "      <td>Tier GmbH</td>\n",
       "      <td>2016-04-01 00:00:00</td>\n",
       "      <td>1101773280</td>\n",
       "      <td>NaN</td>\n",
       "      <td>Facial Massage Roller for Cats</td>\n",
       "      <td>1</td>\n",
       "      <td>NaN</td>\n",
       "      <td>NaN</td>\n",
       "      <td>47.93</td>\n",
       "      <td>47.93</td>\n",
       "      <td>2016/04</td>\n",
       "    </tr>\n",
       "    <tr>\n",
       "      <th>1</th>\n",
       "      <td>1101772220</td>\n",
       "      <td>1101772220</td>\n",
       "      <td>TA Deutschland GmbH</td>\n",
       "      <td>2016-04-01 00:00:00</td>\n",
       "      <td>1101772220</td>\n",
       "      <td>NaN</td>\n",
       "      <td>Facial Massage Roller for Cats</td>\n",
       "      <td>8</td>\n",
       "      <td>NaN</td>\n",
       "      <td>NaN</td>\n",
       "      <td>35.1275</td>\n",
       "      <td>281.02</td>\n",
       "      <td>2016/04</td>\n",
       "    </tr>\n",
       "  </tbody>\n",
       "</table>\n",
       "</div>"
      ],
      "text/plain": [
       "   document number  customer no              Partner         booking date  \\\n",
       "0       1101773280   1101773280            Tier GmbH  2016-04-01 00:00:00   \n",
       "1       1101772220   1101772220  TA Deutschland GmbH  2016-04-01 00:00:00   \n",
       "\n",
       "      Item No KD Item No                     description QTY landed price  \\\n",
       "0  1101773280        NaN  Facial Massage Roller for Cats   1          NaN   \n",
       "1  1101772220        NaN  Facial Massage Roller for Cats   8          NaN   \n",
       "\n",
       "  total landed price amount piece total amount     Date  \n",
       "0                NaN        47.93        47.93  2016/04  \n",
       "1                NaN      35.1275       281.02  2016/04  "
      ]
     },
     "execution_count": 13,
     "metadata": {},
     "output_type": "execute_result"
    }
   ],
   "source": [
    "# Remove header cells and blank lines 必要ない行を削除\n",
    "temp =  ta_data.loc[ta_data['document number'].notnull() & ~ta_data['document number'].isin(['document number'])].copy()\n",
    "temp.dropna(how ='all', inplace=True)\n",
    "ta_data2 = temp[temp['Partner'].notnull()]\n",
    "\n",
    "# Change these to int. They are int in the 201708 file\n",
    "ta_data2['document number']=pd.to_numeric(ta_data2['document number'], errors='coerce')\n",
    "ta_data2['customer no']=pd.to_numeric(ta_data2['document number'], errors='coerce')\n",
    "ta_data2['Item No']=pd.to_numeric(ta_data2['document number'], errors='coerce')\n",
    "\n",
    "# drop dups from after 2017/05 data only\n",
    "#ta_data2.drop_duplicates(inplace=True)\n",
    "temp1 = ta_data2[ta_data2.Date<'2017/05'].copy()\n",
    "temp2 = ta_data2[ta_data2.Date>='2017/05'].copy()\n",
    "temp2.drop_duplicates(inplace = True)\n",
    "ta_data2 = pd.concat([temp1, temp2])\n",
    "\n",
    "print(ta_data2.shape)\n",
    "ta_data2.head(2)"
   ]
  },
  {
   "cell_type": "code",
   "execution_count": 14,
   "metadata": {
    "collapsed": false
   },
   "outputs": [
    {
     "data": {
      "text/plain": [
       "array(['Tier GmbH', 'TA Deutschland GmbH', 'Bär GmbH', 'Eichhörnchen GmbH',\n",
       "       'Fuchs GmbH', 'Hase GmbH', 'Hund GmbH', 'Kalb GmbH',\n",
       "       'Kaninchen GmbH', 'Katze GmbH', 'Kätzchen GmbH',\n",
       "       'TA Österreich GmbH', 'Kuh GmbH', 'Löwe GmbH', 'Maus GmbH',\n",
       "       'Pferd GmbH', 'Ratte GmbH', 'Schildkröte GmbH', 'Schlange GmbH',\n",
       "       'Stier GmbH', 'Wolf GmbH', 'Wurm GmbH', 'Vogel GmbH', 'Hahn GmbH',\n",
       "       'Henne GmbH', 'Adler GmbH', 'Küken GmbH', 'Ameise GmbH',\n",
       "       'Biene GmbH', 'Fliege GmbH', 'Heuschrecke GmbH', 'Mott GmbH',\n",
       "       'TA Ceska', 'Mücke GmbH', 'Schmetterling GmbH', 'Spinne GmbH',\n",
       "       'Huhn GmbH', 'Scheune GmbH', 'Brücke GmbH', 'Hügel GmbH',\n",
       "       'Berg GmbH', 'Strand GmbH', 'See GmbH', 'Fluss GmbH', 'Straße GmbH',\n",
       "       'Bauernhof GmbH', 'Feld GmbH', 'Wald GmbH', 'Pflanze GmbH',\n",
       "       'Stadt GmbH', 'See / das Meer GmbH', 'Bucht GmbH', 'Gebirge GmbH',\n",
       "       'Bach GmbH', 'Himmel GmbH', 'Insel GmbH', 'Luft GmbH', 'Wiese GmbH',\n",
       "       'Wüste GmbH', 'Teich GmbH', 'Gras GmbH', 'Blatt GmbH', 'Blume GmbH',\n",
       "       'Ozean GmbH', 'Baum GmbH', 'Land GmbH', 'Tal GmbH', 'Küste GmbH',\n",
       "       'Dschungel', 'ETE GmbH', 'BS  GmbH', 'ICK GmbH', 'ÜRO GmbH',\n",
       "       'NDE GmbH', 'RÜF GmbH', 'TRO GmbH', 'ERO GmbH', 'EYE GmbH',\n",
       "       'ÜHL GmbH', 'OGE GmbH', 'RUC GmbH', 'ASS GmbH', 'ERS GmbH',\n",
       "       'ODE GmbH', 'AIN GmbH', 'CHM GmbH', 'A T GmbH', 'SP  GmbH',\n",
       "       'BC  GmbH', 'A&B  GmbH', 'ANN GmbH', 'EPR GmbH', 'WS  GmbH',\n",
       "       'VS  GmbH', 'OFM GmbH', 'OMP GmbH', 'SA  GmbH', 'ICH GmbH',\n",
       "       'VIN GmbH', 'LAI GmbH', 'KP  GmbH', 'PAT GmbH', 'D J GmbH',\n",
       "       'COF GmbH', 'E K GmbH', 'ANA GmbH', 'AUL GmbH', 'ANS GmbH',\n",
       "       'CHW GmbH', 'OYN GmbH', 'RIN GmbH', 'LUX GmbH', 'L N GmbH',\n",
       "       'EGL GmbH', 'REP GmbH', 'PS  GmbH', 'O.S GmbH', 'K-D GmbH',\n",
       "       'AUE GmbH', 'ESS GmbH', 'S-F GmbH', 'K.K.A. GmbH', 'A-L GmbH',\n",
       "       'JJJ GmbH', 'ETT GmbH', 'ERM GmbH', 'T.A.D GmbH', 'AZP  GmbH',\n",
       "       'G. P GmbH', 'RZA GmbH', 'UTO GmbH', 'OCU GmbH', 'ELS GmbH',\n",
       "       'LAN GmbH', 'K.S GmbH', 'ALD GmbH', 'ENN GmbH', 'EWS GmbH',\n",
       "       'L R GmbH', 'RAN GmbH', 'HLE GmbH', 'BM  GmbH', 'IOT GmbH',\n",
       "       'Q H GmbH', 'KIP GmbH'], dtype=object)"
      ]
     },
     "execution_count": 14,
     "metadata": {},
     "output_type": "execute_result"
    }
   ],
   "source": [
    "ta_data2.Partner.unique()"
   ]
  },
  {
   "cell_type": "code",
   "execution_count": 15,
   "metadata": {
    "collapsed": true
   },
   "outputs": [],
   "source": [
    "#### Partner2 カラム　下の４社は\"TA\", その他は\"Others\" \n",
    "#### TA Triumph-Adler Ceska \n",
    "#### TA Triumph-Adler Deutschland GmbH \n",
    "#### TA Triumph-Adler Österreich GmbH \n",
    "#### TA Triumph-Adler Schweiz AG"
   ]
  },
  {
   "cell_type": "code",
   "execution_count": 16,
   "metadata": {
    "collapsed": true
   },
   "outputs": [],
   "source": [
    "def assign_partner2(st):\n",
    "    if 'TA CESKA' in st.upper():\n",
    "        return 'TA Ceska'\n",
    "    elif 'TA DEUTSCHLAND GMBH' in st.upper():\n",
    "        return 'TA Deutschland GmbH'\n",
    "    elif 'TA ÖSTERREICH GMBH' in st.upper():\n",
    "        return 'TA Österreich GmbH'\n",
    "    elif 'TA SCHWEIZ AG' in st.upper():\n",
    "        return 'TA Schweiz AG'\n",
    "    else:\n",
    "        return 'Others'"
   ]
  },
  {
   "cell_type": "code",
   "execution_count": 17,
   "metadata": {
    "collapsed": false
   },
   "outputs": [],
   "source": [
    "# # 関数定義　上記4社TAはそのまま、他は\"Others\"とする\n",
    "# # Function definition - Keep the company name for 4 TA, rename other TA to 'Others' \n",
    "# def assign_partner2(st):\n",
    "#     if 'TA TRIUMPH-ADLER CESKA' in st.upper():\n",
    "#         return 'TA Triumph-Adler Ceska'\n",
    "#     elif 'TA TRIUMPH-ADLER DEUTSCHLAND GMBH' in st.upper():\n",
    "#         return 'TA Triumph-Adler Deutschland GmbH'\n",
    "#     elif 'TA TRIUMPH-ADLER ÖSTERREICH GMBH' in st.upper():\n",
    "#         return 'TA Triumph-Adler Österreich GmbH'\n",
    "#     elif 'TA TRIUMPH-ADLER SCHWEIZ AG' in st.upper():\n",
    "#         return 'TA Triumph-Adler Schweiz AG'\n",
    "#     else:\n",
    "#         return 'Others'"
   ]
  },
  {
   "cell_type": "code",
   "execution_count": 18,
   "metadata": {
    "collapsed": false
   },
   "outputs": [],
   "source": [
    "# 'Partner2'カラムを追加して、上の関数を適用\n",
    "\n",
    "#ta_data2.loc[:, 'Partner2'] = data_ta2['Partner'].apply(lambda x: _ta_name(x))\n",
    "ta_data2['Partner2'] = ta_data2['Partner'].apply(lambda x: assign_partner2(x))\n",
    "ta_data2['Group'] ='TA'\n",
    "ta_data2['Currency']='Euro'"
   ]
  },
  {
   "cell_type": "code",
   "execution_count": 19,
   "metadata": {
    "collapsed": false
   },
   "outputs": [
    {
     "data": {
      "text/html": [
       "<div>\n",
       "<table border=\"1\" class=\"dataframe\">\n",
       "  <thead>\n",
       "    <tr style=\"text-align: right;\">\n",
       "      <th></th>\n",
       "      <th>Month</th>\n",
       "      <th>customer no</th>\n",
       "      <th>Partner</th>\n",
       "      <th>Partner2</th>\n",
       "      <th>Group</th>\n",
       "      <th>description</th>\n",
       "      <th>QTY</th>\n",
       "      <th>total amount</th>\n",
       "      <th>Currency</th>\n",
       "    </tr>\n",
       "  </thead>\n",
       "  <tbody>\n",
       "    <tr>\n",
       "      <th>0</th>\n",
       "      <td>201604</td>\n",
       "      <td>1101773280</td>\n",
       "      <td>Tier GmbH</td>\n",
       "      <td>Others</td>\n",
       "      <td>TA</td>\n",
       "      <td>Facial Massage Roller for Cats</td>\n",
       "      <td>1.0</td>\n",
       "      <td>47.93</td>\n",
       "      <td>Euro</td>\n",
       "    </tr>\n",
       "    <tr>\n",
       "      <th>1</th>\n",
       "      <td>201604</td>\n",
       "      <td>1101772220</td>\n",
       "      <td>TA Deutschland GmbH</td>\n",
       "      <td>TA Deutschland GmbH</td>\n",
       "      <td>TA</td>\n",
       "      <td>Facial Massage Roller for Cats</td>\n",
       "      <td>8.0</td>\n",
       "      <td>281.02</td>\n",
       "      <td>Euro</td>\n",
       "    </tr>\n",
       "  </tbody>\n",
       "</table>\n",
       "</div>"
      ],
      "text/plain": [
       "    Month  customer no              Partner             Partner2 Group  \\\n",
       "0  201604   1101773280            Tier GmbH               Others    TA   \n",
       "1  201604   1101772220  TA Deutschland GmbH  TA Deutschland GmbH    TA   \n",
       "\n",
       "                      description  QTY  total amount Currency  \n",
       "0  Facial Massage Roller for Cats  1.0         47.93     Euro  \n",
       "1  Facial Massage Roller for Cats  8.0        281.02     Euro  "
      ]
     },
     "execution_count": 19,
     "metadata": {},
     "output_type": "execute_result"
    }
   ],
   "source": [
    "# KDCデータと統一する準備 - カラム名とデータタイプをKDCと同じに\n",
    "# Reorder columns\n",
    "col_ta = ['Date', 'customer no', 'Partner', 'Partner2', 'Group','description', 'QTY', 'total amount', 'Currency']\n",
    "ta_data2 = ta_data2[col_ta]\n",
    "\n",
    "# Remove '/' from the Date column\n",
    "ta_data2['Date'] = ta_data2['Date'].str.replace('/', '')\n",
    "\n",
    " # Rename the 'Date' column to 'Month' \n",
    "ta_data2.columns=['Month', 'customer no', 'Partner', 'Partner2', 'Group','description', 'QTY', 'total amount', 'Currency']\n",
    "\n",
    "# Change dtype of columns to match KDC_data\n",
    "ta_data2['Month'] = ta_data2['Month'].astype(int)\n",
    "ta_data2['customer no'] = ta_data2['customer no'].astype(np.int64)\n",
    "ta_data2['QTY'] = ta_data2['QTY'].astype(float)\n",
    "ta_data2['total amount'] = ta_data2['total amount'].astype(float)\n",
    "\n",
    "ta_data2.head(2)"
   ]
  },
  {
   "cell_type": "markdown",
   "metadata": {},
   "source": [
    "## TA Exange & Margin Rate   為替とマージン率"
   ]
  },
  {
   "cell_type": "code",
   "execution_count": 20,
   "metadata": {
    "collapsed": false
   },
   "outputs": [],
   "source": [
    "# 為替レートの読み込み\n",
    "# Read in Fx Rate data\n",
    "temp_fx_thisFY = pd.read_excel(filePath + ta_ex_thisFY, sheetname='Exchange Rate (Actual)', skiprows=3)\n",
    "temp_fx_lastFY = pd.read_excel(filePath + ta_ex_lastFY, sheetname='Exchange Rate (Actual)', skiprows=3) #index_col='Currency(from)'\n",
    "margin = pd.read_excel(filePath + ta_margin, sheetname='Sheet1', skiprows=1)  #"
   ]
  },
  {
   "cell_type": "code",
   "execution_count": 21,
   "metadata": {
    "collapsed": false
   },
   "outputs": [
    {
     "data": {
      "text/html": [
       "<div>\n",
       "<table border=\"1\" class=\"dataframe\">\n",
       "  <thead>\n",
       "    <tr style=\"text-align: right;\">\n",
       "      <th></th>\n",
       "      <th>Currency(from)</th>\n",
       "      <th>Currency(to)</th>\n",
       "      <th>201604</th>\n",
       "      <th>201605</th>\n",
       "      <th>201606</th>\n",
       "      <th>201607</th>\n",
       "      <th>201608</th>\n",
       "      <th>201609</th>\n",
       "      <th>201610</th>\n",
       "      <th>201611</th>\n",
       "      <th>201612</th>\n",
       "      <th>201701</th>\n",
       "      <th>201702</th>\n",
       "      <th>201703</th>\n",
       "      <th>201704</th>\n",
       "      <th>201705</th>\n",
       "      <th>201706</th>\n",
       "      <th>201707</th>\n",
       "      <th>201708</th>\n",
       "    </tr>\n",
       "  </thead>\n",
       "  <tbody>\n",
       "    <tr>\n",
       "      <th>0</th>\n",
       "      <td>AUD</td>\n",
       "      <td>AUD</td>\n",
       "      <td>1.00</td>\n",
       "      <td>1.00</td>\n",
       "      <td>1.0</td>\n",
       "      <td>1.00</td>\n",
       "      <td>1.00</td>\n",
       "      <td>1.00</td>\n",
       "      <td>1.00</td>\n",
       "      <td>1.00</td>\n",
       "      <td>1.00</td>\n",
       "      <td>1.00</td>\n",
       "      <td>1.00</td>\n",
       "      <td>1.00</td>\n",
       "      <td>1.00</td>\n",
       "      <td>1.00</td>\n",
       "      <td>1.00</td>\n",
       "      <td>1.00</td>\n",
       "      <td>1.00</td>\n",
       "    </tr>\n",
       "    <tr>\n",
       "      <th>1</th>\n",
       "      <td>AUD</td>\n",
       "      <td>JPY</td>\n",
       "      <td>84.27</td>\n",
       "      <td>79.58</td>\n",
       "      <td>78.2</td>\n",
       "      <td>78.16</td>\n",
       "      <td>77.22</td>\n",
       "      <td>77.38</td>\n",
       "      <td>79.11</td>\n",
       "      <td>81.58</td>\n",
       "      <td>85.22</td>\n",
       "      <td>85.75</td>\n",
       "      <td>86.62</td>\n",
       "      <td>86.12</td>\n",
       "      <td>83.08</td>\n",
       "      <td>83.44</td>\n",
       "      <td>83.74</td>\n",
       "      <td>87.53</td>\n",
       "      <td>87.06</td>\n",
       "    </tr>\n",
       "  </tbody>\n",
       "</table>\n",
       "</div>"
      ],
      "text/plain": [
       "  Currency(from) Currency(to)  201604  201605  201606  201607  201608  201609  \\\n",
       "0            AUD          AUD    1.00    1.00     1.0    1.00    1.00    1.00   \n",
       "1            AUD          JPY   84.27   79.58    78.2   78.16   77.22   77.38   \n",
       "\n",
       "   201610  201611  201612  201701  201702  201703  201704  201705  201706  \\\n",
       "0    1.00    1.00    1.00    1.00    1.00    1.00    1.00    1.00    1.00   \n",
       "1   79.11   81.58   85.22   85.75   86.62   86.12   83.08   83.44   83.74   \n",
       "\n",
       "   201707  201708  \n",
       "0    1.00    1.00  \n",
       "1   87.53   87.06  "
      ]
     },
     "execution_count": 21,
     "metadata": {},
     "output_type": "execute_result"
    }
   ],
   "source": [
    "# 必要なカラムの選択、昨年度と今年度の為替データを１つに\n",
    "fx_thisFY=temp_fx_thisFY.iloc[:, 3:]\n",
    "fx_lastFY=temp_fx_lastFY.iloc[:, 3:]\n",
    "\n",
    "fx_thisFY.set_index(['Currency(from)', 'Currency(to)'], inplace=True)\n",
    "fx_lastFY.set_index(['Currency(from)', 'Currency(to)'], inplace=True)\n",
    "\n",
    "fx_temp = pd.concat([fx_lastFY, fx_thisFY], axis=1).reset_index()\n",
    "fx_temp.head(2)"
   ]
  },
  {
   "cell_type": "code",
   "execution_count": 22,
   "metadata": {
    "collapsed": false
   },
   "outputs": [
    {
     "data": {
      "text/html": [
       "<div>\n",
       "<table border=\"1\" class=\"dataframe\">\n",
       "  <thead>\n",
       "    <tr style=\"text-align: right;\">\n",
       "      <th></th>\n",
       "      <th>Month</th>\n",
       "      <th>Fx Rate</th>\n",
       "      <th>Currency</th>\n",
       "      <th>key</th>\n",
       "    </tr>\n",
       "  </thead>\n",
       "  <tbody>\n",
       "    <tr>\n",
       "      <th>12</th>\n",
       "      <td>201704</td>\n",
       "      <td>117.95</td>\n",
       "      <td>EUR</td>\n",
       "      <td>1</td>\n",
       "    </tr>\n",
       "    <tr>\n",
       "      <th>13</th>\n",
       "      <td>201705</td>\n",
       "      <td>124.10</td>\n",
       "      <td>EUR</td>\n",
       "      <td>1</td>\n",
       "    </tr>\n",
       "    <tr>\n",
       "      <th>14</th>\n",
       "      <td>201706</td>\n",
       "      <td>124.52</td>\n",
       "      <td>EUR</td>\n",
       "      <td>1</td>\n",
       "    </tr>\n",
       "    <tr>\n",
       "      <th>15</th>\n",
       "      <td>201707</td>\n",
       "      <td>129.42</td>\n",
       "      <td>EUR</td>\n",
       "      <td>1</td>\n",
       "    </tr>\n",
       "    <tr>\n",
       "      <th>16</th>\n",
       "      <td>201708</td>\n",
       "      <td>129.88</td>\n",
       "      <td>EUR</td>\n",
       "      <td>1</td>\n",
       "    </tr>\n",
       "  </tbody>\n",
       "</table>\n",
       "</div>"
      ],
      "text/plain": [
       "     Month  Fx Rate Currency  key\n",
       "12  201704   117.95      EUR    1\n",
       "13  201705   124.10      EUR    1\n",
       "14  201706   124.52      EUR    1\n",
       "15  201707   129.42      EUR    1\n",
       "16  201708   129.88      EUR    1"
      ]
     },
     "execution_count": 22,
     "metadata": {},
     "output_type": "execute_result"
    }
   ],
   "source": [
    "# 計算に使用できるようレイアウトを変更\n",
    "# Exchange Rate - change the layout\n",
    "fx_rate = fx_temp[(fx_temp['Currency(from)']=='EUR') & (fx_temp['Currency(to)']=='JPY')].iloc[:, 2:].T\n",
    "fx_rate.columns=['Fx Rate']\n",
    "fx_rate['Currency']='EUR'\n",
    "fx_rate['key']=1\n",
    "fx_rate.reset_index(inplace=True)\n",
    "fx_rate.columns=['Month', 'Fx Rate', 'Currency', 'key']\n",
    "fx_rate['Month']=fx_rate['Month'].astype(int)\n",
    "\n",
    "fx_rate.drop_duplicates(inplace=True)\n",
    "\n",
    "fx_rate.tail()"
   ]
  },
  {
   "cell_type": "code",
   "execution_count": 23,
   "metadata": {
    "collapsed": false
   },
   "outputs": [
    {
     "data": {
      "text/html": [
       "<div>\n",
       "<table border=\"1\" class=\"dataframe\">\n",
       "  <thead>\n",
       "    <tr style=\"text-align: right;\">\n",
       "      <th></th>\n",
       "      <th>Customer Name</th>\n",
       "      <th>マージン率/%</th>\n",
       "      <th>Partner2</th>\n",
       "      <th>key</th>\n",
       "    </tr>\n",
       "  </thead>\n",
       "  <tbody>\n",
       "    <tr>\n",
       "      <th>0</th>\n",
       "      <td>その他</td>\n",
       "      <td>0.0</td>\n",
       "      <td>Others</td>\n",
       "      <td>1</td>\n",
       "    </tr>\n",
       "    <tr>\n",
       "      <th>1</th>\n",
       "      <td>TA Ceska</td>\n",
       "      <td>24.8</td>\n",
       "      <td>TA Ceska</td>\n",
       "      <td>1</td>\n",
       "    </tr>\n",
       "    <tr>\n",
       "      <th>2</th>\n",
       "      <td>TA Deutschland GmbH</td>\n",
       "      <td>27.6</td>\n",
       "      <td>TA Deutschland GmbH</td>\n",
       "      <td>1</td>\n",
       "    </tr>\n",
       "    <tr>\n",
       "      <th>3</th>\n",
       "      <td>TA Österreich GmbH</td>\n",
       "      <td>39.9</td>\n",
       "      <td>TA Österreich GmbH</td>\n",
       "      <td>1</td>\n",
       "    </tr>\n",
       "    <tr>\n",
       "      <th>4</th>\n",
       "      <td>TA Schweiz AG</td>\n",
       "      <td>45.8</td>\n",
       "      <td>TA Schweiz AG</td>\n",
       "      <td>1</td>\n",
       "    </tr>\n",
       "  </tbody>\n",
       "</table>\n",
       "</div>"
      ],
      "text/plain": [
       "         Customer Name  マージン率/%             Partner2  key\n",
       "0                  その他      0.0               Others    1\n",
       "1             TA Ceska     24.8             TA Ceska    1\n",
       "2  TA Deutschland GmbH     27.6  TA Deutschland GmbH    1\n",
       "3   TA Österreich GmbH     39.9   TA Österreich GmbH    1\n",
       "4        TA Schweiz AG     45.8        TA Schweiz AG    1"
      ]
     },
     "execution_count": 23,
     "metadata": {},
     "output_type": "execute_result"
    }
   ],
   "source": [
    "# マージン率を読み込んで、計算に使用できるよう変更\n",
    "# Margin Rate\n",
    "margin['Partner2'] = margin['Customer Name'].str.replace('その他', 'Others')\n",
    "#margin.set_index('Customer Name', inplace=True)\n",
    "margin.drop_duplicates(inplace=True)\n",
    "\n",
    "margin['key']=1\n",
    "margin.head()"
   ]
  },
  {
   "cell_type": "code",
   "execution_count": 24,
   "metadata": {
    "collapsed": false
   },
   "outputs": [
    {
     "data": {
      "text/html": [
       "<div>\n",
       "<table border=\"1\" class=\"dataframe\">\n",
       "  <thead>\n",
       "    <tr style=\"text-align: right;\">\n",
       "      <th></th>\n",
       "      <th>Month</th>\n",
       "      <th>Conversion Rate</th>\n",
       "      <th>Partner2</th>\n",
       "    </tr>\n",
       "  </thead>\n",
       "  <tbody>\n",
       "    <tr>\n",
       "      <th>80</th>\n",
       "      <td>201708</td>\n",
       "      <td>129.880000</td>\n",
       "      <td>Others</td>\n",
       "    </tr>\n",
       "    <tr>\n",
       "      <th>81</th>\n",
       "      <td>201708</td>\n",
       "      <td>172.712766</td>\n",
       "      <td>TA Ceska</td>\n",
       "    </tr>\n",
       "    <tr>\n",
       "      <th>82</th>\n",
       "      <td>201708</td>\n",
       "      <td>179.392265</td>\n",
       "      <td>TA Deutschland GmbH</td>\n",
       "    </tr>\n",
       "    <tr>\n",
       "      <th>83</th>\n",
       "      <td>201708</td>\n",
       "      <td>216.106489</td>\n",
       "      <td>TA Österreich GmbH</td>\n",
       "    </tr>\n",
       "    <tr>\n",
       "      <th>84</th>\n",
       "      <td>201708</td>\n",
       "      <td>239.630996</td>\n",
       "      <td>TA Schweiz AG</td>\n",
       "    </tr>\n",
       "  </tbody>\n",
       "</table>\n",
       "</div>"
      ],
      "text/plain": [
       "     Month  Conversion Rate             Partner2\n",
       "80  201708       129.880000               Others\n",
       "81  201708       172.712766             TA Ceska\n",
       "82  201708       179.392265  TA Deutschland GmbH\n",
       "83  201708       216.106489   TA Österreich GmbH\n",
       "84  201708       239.630996        TA Schweiz AG"
      ]
     },
     "execution_count": 24,
     "metadata": {},
     "output_type": "execute_result"
    }
   ],
   "source": [
    "# 月毎、TA会社毎の変換レート計算　変換レート＝為替/(1-マージン率/100)\n",
    "rate = pd.merge(fx_rate, margin, on ='key')\n",
    "\n",
    "rate = rate[['Month', 'Partner2', 'Currency', 'Fx Rate', 'マージン率/%']]\n",
    "rate['Conversion Rate'] = rate['Fx Rate'] /(1-rate['マージン率/%']/100) \n",
    "rate['Month'] = rate['Month'].astype(int)\n",
    "\n",
    "# 変換レート結果\n",
    "# Necessary columns\n",
    "rate2 = rate[['Month', 'Conversion Rate', 'Partner2']]\n",
    "rate2.tail(5)"
   ]
  },
  {
   "cell_type": "code",
   "execution_count": 25,
   "metadata": {
    "collapsed": false
   },
   "outputs": [],
   "source": [
    "# TA変換レートをファイルに出力\n",
    "output_rate = outputPath + r'TA_conversion_rate_{0}.xlsx'.format(str(report_date.date()))\n",
    "writer = pd.ExcelWriter(output_rate)\n",
    "\n",
    "rate.to_excel(writer, index=False)\n",
    "writer.save()\n",
    "#writer.close()"
   ]
  },
  {
   "cell_type": "code",
   "execution_count": 26,
   "metadata": {
    "collapsed": false
   },
   "outputs": [
    {
     "data": {
      "text/html": [
       "<div>\n",
       "<table border=\"1\" class=\"dataframe\">\n",
       "  <thead>\n",
       "    <tr style=\"text-align: right;\">\n",
       "      <th></th>\n",
       "      <th>Month</th>\n",
       "      <th>customer no</th>\n",
       "      <th>Partner</th>\n",
       "      <th>Partner2</th>\n",
       "      <th>Group</th>\n",
       "      <th>description</th>\n",
       "      <th>QTY</th>\n",
       "      <th>total amount</th>\n",
       "      <th>Currency</th>\n",
       "    </tr>\n",
       "  </thead>\n",
       "  <tbody>\n",
       "    <tr>\n",
       "      <th>0</th>\n",
       "      <td>201604</td>\n",
       "      <td>1101773280</td>\n",
       "      <td>Tier GmbH</td>\n",
       "      <td>Others</td>\n",
       "      <td>TA</td>\n",
       "      <td>Facial Massage Roller for Cats</td>\n",
       "      <td>1.0</td>\n",
       "      <td>47.93</td>\n",
       "      <td>Euro</td>\n",
       "    </tr>\n",
       "    <tr>\n",
       "      <th>1</th>\n",
       "      <td>201604</td>\n",
       "      <td>1101772220</td>\n",
       "      <td>TA Deutschland GmbH</td>\n",
       "      <td>TA Deutschland GmbH</td>\n",
       "      <td>TA</td>\n",
       "      <td>Facial Massage Roller for Cats</td>\n",
       "      <td>8.0</td>\n",
       "      <td>281.02</td>\n",
       "      <td>Euro</td>\n",
       "    </tr>\n",
       "  </tbody>\n",
       "</table>\n",
       "</div>"
      ],
      "text/plain": [
       "    Month  customer no              Partner             Partner2 Group  \\\n",
       "0  201604   1101773280            Tier GmbH               Others    TA   \n",
       "1  201604   1101772220  TA Deutschland GmbH  TA Deutschland GmbH    TA   \n",
       "\n",
       "                      description  QTY  total amount Currency  \n",
       "0  Facial Massage Roller for Cats  1.0         47.93     Euro  \n",
       "1  Facial Massage Roller for Cats  8.0        281.02     Euro  "
      ]
     },
     "execution_count": 26,
     "metadata": {},
     "output_type": "execute_result"
    }
   ],
   "source": [
    "ta_data2.head(2)"
   ]
  },
  {
   "cell_type": "markdown",
   "metadata": {},
   "source": [
    "## Apply Conversion Rate to TA data  変換レートをTA販売実績に適用"
   ]
  },
  {
   "cell_type": "code",
   "execution_count": 27,
   "metadata": {
    "collapsed": false
   },
   "outputs": [
    {
     "data": {
      "text/html": [
       "<div>\n",
       "<table border=\"1\" class=\"dataframe\">\n",
       "  <thead>\n",
       "    <tr style=\"text-align: right;\">\n",
       "      <th></th>\n",
       "      <th>Month</th>\n",
       "      <th>customer no</th>\n",
       "      <th>Partner</th>\n",
       "      <th>Partner2</th>\n",
       "      <th>Group</th>\n",
       "      <th>description</th>\n",
       "      <th>QTY</th>\n",
       "      <th>total amount</th>\n",
       "      <th>Currency</th>\n",
       "      <th>Conversion Rate</th>\n",
       "    </tr>\n",
       "  </thead>\n",
       "  <tbody>\n",
       "    <tr>\n",
       "      <th>0</th>\n",
       "      <td>201604</td>\n",
       "      <td>1101773280</td>\n",
       "      <td>Tier GmbH</td>\n",
       "      <td>Others</td>\n",
       "      <td>TA</td>\n",
       "      <td>Facial Massage Roller for Cats</td>\n",
       "      <td>1.0</td>\n",
       "      <td>47.93</td>\n",
       "      <td>Euro</td>\n",
       "      <td>124.620000</td>\n",
       "    </tr>\n",
       "    <tr>\n",
       "      <th>1</th>\n",
       "      <td>201604</td>\n",
       "      <td>1101772220</td>\n",
       "      <td>TA Deutschland GmbH</td>\n",
       "      <td>TA Deutschland GmbH</td>\n",
       "      <td>TA</td>\n",
       "      <td>Facial Massage Roller for Cats</td>\n",
       "      <td>8.0</td>\n",
       "      <td>281.02</td>\n",
       "      <td>Euro</td>\n",
       "      <td>172.127072</td>\n",
       "    </tr>\n",
       "  </tbody>\n",
       "</table>\n",
       "</div>"
      ],
      "text/plain": [
       "    Month  customer no              Partner             Partner2 Group  \\\n",
       "0  201604   1101773280            Tier GmbH               Others    TA   \n",
       "1  201604   1101772220  TA Deutschland GmbH  TA Deutschland GmbH    TA   \n",
       "\n",
       "                      description  QTY  total amount Currency  Conversion Rate  \n",
       "0  Facial Massage Roller for Cats  1.0         47.93     Euro       124.620000  \n",
       "1  Facial Massage Roller for Cats  8.0        281.02     Euro       172.127072  "
      ]
     },
     "execution_count": 27,
     "metadata": {},
     "output_type": "execute_result"
    }
   ],
   "source": [
    "# Join TA data and exhange rate TA販売データと変換レートをマージ\n",
    "ta_data3 = pd.merge(ta_data2, rate2, how='left', on =['Partner2', 'Month'])\n",
    "ta_data3.head(2)"
   ]
  },
  {
   "cell_type": "code",
   "execution_count": 28,
   "metadata": {
    "collapsed": false
   },
   "outputs": [],
   "source": [
    "#　日本円に変換して'Sales JPY'カラムに追加\n",
    "ta_data3['Sales JPY'] = round(ta_data3['total amount']* ta_data3['Conversion Rate'], 3)\n",
    "#ta_data3.head(2)"
   ]
  },
  {
   "cell_type": "code",
   "execution_count": 29,
   "metadata": {
    "collapsed": false
   },
   "outputs": [
    {
     "data": {
      "text/plain": [
       "array([], dtype=object)"
      ]
     },
     "execution_count": 29,
     "metadata": {},
     "output_type": "execute_result"
    }
   ],
   "source": [
    "# Check for records with Null ExRate　変換レートのない記録をチェック\n",
    "ta_data3[ta_data3['Conversion Rate'].isnull()]['Partner2'].unique()"
   ]
  },
  {
   "cell_type": "code",
   "execution_count": 30,
   "metadata": {
    "collapsed": false
   },
   "outputs": [
    {
     "data": {
      "text/html": [
       "<div>\n",
       "<table border=\"1\" class=\"dataframe\">\n",
       "  <thead>\n",
       "    <tr style=\"text-align: right;\">\n",
       "      <th></th>\n",
       "      <th>Year / Month</th>\n",
       "      <th>Company Code</th>\n",
       "      <th>Company Name</th>\n",
       "      <th>Company Group Name</th>\n",
       "      <th>3rd Party or Inter</th>\n",
       "      <th>Material Name</th>\n",
       "      <th>Sales Quantity</th>\n",
       "      <th>Actual Sales</th>\n",
       "      <th>Plan Currency</th>\n",
       "      <th>ExRate</th>\n",
       "      <th>Actual Sales (Ex)</th>\n",
       "    </tr>\n",
       "  </thead>\n",
       "  <tbody>\n",
       "    <tr>\n",
       "      <th>0</th>\n",
       "      <td>201604</td>\n",
       "      <td>1101773280</td>\n",
       "      <td>Tier GmbH</td>\n",
       "      <td>Others</td>\n",
       "      <td>3</td>\n",
       "      <td>Facial Massage Roller for Cats</td>\n",
       "      <td>1.0</td>\n",
       "      <td>47.93</td>\n",
       "      <td>Euro</td>\n",
       "      <td>124.620000</td>\n",
       "      <td>5973.037</td>\n",
       "    </tr>\n",
       "    <tr>\n",
       "      <th>1</th>\n",
       "      <td>201604</td>\n",
       "      <td>1101772220</td>\n",
       "      <td>TA Deutschland GmbH</td>\n",
       "      <td>TA Deutschland GmbH</td>\n",
       "      <td>3</td>\n",
       "      <td>Facial Massage Roller for Cats</td>\n",
       "      <td>8.0</td>\n",
       "      <td>281.02</td>\n",
       "      <td>Euro</td>\n",
       "      <td>172.127072</td>\n",
       "      <td>48371.150</td>\n",
       "    </tr>\n",
       "  </tbody>\n",
       "</table>\n",
       "</div>"
      ],
      "text/plain": [
       "   Year / Month  Company Code         Company Name   Company Group Name  \\\n",
       "0        201604    1101773280            Tier GmbH               Others   \n",
       "1        201604    1101772220  TA Deutschland GmbH  TA Deutschland GmbH   \n",
       "\n",
       "   3rd Party or Inter                   Material Name  Sales Quantity  \\\n",
       "0                   3  Facial Massage Roller for Cats             1.0   \n",
       "1                   3  Facial Massage Roller for Cats             8.0   \n",
       "\n",
       "   Actual Sales Plan Currency      ExRate  Actual Sales (Ex)  \n",
       "0         47.93          Euro  124.620000           5973.037  \n",
       "1        281.02          Euro  172.127072          48371.150  "
      ]
     },
     "execution_count": 30,
     "metadata": {},
     "output_type": "execute_result"
    }
   ],
   "source": [
    "# Change TA data column name to match KDC column names\n",
    "col_list = kdc_data2.columns.tolist()\n",
    "ta_data3.columns = col_list\n",
    "\n",
    "# Set '3rd Party or Inter'=3 for TA　'3rd Party or Inter'カラムは３とする\n",
    "ta_data3['3rd Party or Inter'] = 3\n",
    "\n",
    "ta_data3.head(2)"
   ]
  },
  {
   "cell_type": "code",
   "execution_count": 31,
   "metadata": {
    "collapsed": false
   },
   "outputs": [
    {
     "name": "stdout",
     "output_type": "stream",
     "text": [
      "Number of record KDC (71664, 11)\n",
      "Number of recor TA (15501, 11)\n",
      "Number of record KDC + TA: 87165\n"
     ]
    }
   ],
   "source": [
    "# 記録数の確認\n",
    "print('Number of record KDC', kdc_data2.shape)\n",
    "print('Number of recor TA', ta_data3.shape)\n",
    "print('Number of record KDC + TA:', len(kdc_data2) + len(ta_data3))"
   ]
  },
  {
   "cell_type": "markdown",
   "metadata": {},
   "source": [
    "## Merge KDC and TA data"
   ]
  },
  {
   "cell_type": "code",
   "execution_count": 32,
   "metadata": {
    "collapsed": false
   },
   "outputs": [
    {
     "name": "stdout",
     "output_type": "stream",
     "text": [
      "(87165, 11)\n",
      "(86635, 12)\n"
     ]
    }
   ],
   "source": [
    "# Add TA data to KDC data 　　KDCとTAを合わせる\n",
    "data_merged = pd.concat([kdc_data2 ,ta_data3])\n",
    "\n",
    "print(data_merged.shape)\n",
    "# Add a Period column\n",
    "data_merged['Year-Month'] = pd.to_datetime(data_merged['Year / Month'].astype(str)\n",
    "                            .apply(lambda x: x[:4]+'-'+x[4:7])).dt.to_period('m')\n",
    "\n",
    "# report_dateより後のデータは削除, 3rd party のみに\n",
    "data_merged = data_merged[data_merged['Year-Month'] <= report_date.to_period('m')]\n",
    "#data_merged = data_merged[data_merged['Year / Month'] <= report_date]\n",
    "data_merged = data_merged[(data_merged['3rd Party or Inter']==3)]\n",
    "print(data_merged.shape)"
   ]
  },
  {
   "cell_type": "code",
   "execution_count": 33,
   "metadata": {
    "collapsed": false
   },
   "outputs": [
    {
     "name": "stdout",
     "output_type": "stream",
     "text": [
      "Company Names:  [' Pow Japan' ' Pow Europe' ' Pow America' ' Pow Oceania' ' Pow Asia'\n",
      " ' Pow Canada' 'TA']\n"
     ]
    }
   ],
   "source": [
    "# Add display company name  販社名から数字、-Gなどを削除して'Display Co Name'カラムに。TA*販社はTAとする。\n",
    "data_merged['Display Co Name'] = data_merged['Company Group Name']\n",
    "data_merged['Display Co Name'] = data_merged['Display Co Name'].map(lambda x: re.sub('[0-1][0-9].', '',  x))\n",
    "data_merged['Display Co Name'] = data_merged['Display Co Name'].map(lambda x: re.sub('OCEANIA-G', 'KDAU-G',  x))\n",
    "data_merged['Display Co Name'] = data_merged['Display Co Name'].map(lambda x: re.sub('TA \\D*', 'TA', x))\n",
    "data_merged['Display Co Name'] = data_merged['Display Co Name'].map(lambda x: re.sub('Others', 'TA',  x))\n",
    "data_merged['Display Co Name'] = data_merged['Display Co Name'].map(lambda x: re.sub('-G', '',  x))\n",
    "\n",
    "print('Company Names: ',  data_merged['Display Co Name'].unique())"
   ]
  },
  {
   "cell_type": "code",
   "execution_count": 34,
   "metadata": {
    "collapsed": false
   },
   "outputs": [],
   "source": [
    "#pickle_dir='/Users/yuka/Documents/Python/Kyocera/OptionSales/'\n",
    "pickle_dir = 'C:\\\\Users\\\\ymatsukawa\\\\AppData\\\\home\\\\ymatsukawa\\\\'\n",
    "data_merged.to_pickle(pickle_dir+'options sales report merged data.pkl')"
   ]
  },
  {
   "cell_type": "code",
   "execution_count": 35,
   "metadata": {
    "collapsed": false
   },
   "outputs": [],
   "source": [
    "#data_merged = pd.read_pickle(pickle_dir + 'options sales report merged data.pkl')"
   ]
  },
  {
   "cell_type": "code",
   "execution_count": 36,
   "metadata": {
    "collapsed": false
   },
   "outputs": [
    {
     "data": {
      "text/html": [
       "<div>\n",
       "<table border=\"1\" class=\"dataframe\">\n",
       "  <thead>\n",
       "    <tr style=\"text-align: right;\">\n",
       "      <th></th>\n",
       "      <th>Year / Month</th>\n",
       "      <th>Company Code</th>\n",
       "      <th>Company Name</th>\n",
       "      <th>Company Group Name</th>\n",
       "      <th>3rd Party or Inter</th>\n",
       "      <th>Material Name</th>\n",
       "      <th>Sales Quantity</th>\n",
       "      <th>Actual Sales</th>\n",
       "      <th>Plan Currency</th>\n",
       "      <th>ExRate</th>\n",
       "      <th>Actual Sales (Ex)</th>\n",
       "      <th>Year-Month</th>\n",
       "      <th>Display Co Name</th>\n",
       "    </tr>\n",
       "  </thead>\n",
       "  <tbody>\n",
       "    <tr>\n",
       "      <th>7768</th>\n",
       "      <td>201604</td>\n",
       "      <td>1101</td>\n",
       "      <td>Amazin' Animals Pet Shop</td>\n",
       "      <td>09. Pow Japan</td>\n",
       "      <td>3</td>\n",
       "      <td>Non target products</td>\n",
       "      <td>4.0</td>\n",
       "      <td>21000.0</td>\n",
       "      <td>JPY</td>\n",
       "      <td>1.0</td>\n",
       "      <td>21000.0</td>\n",
       "      <td>2016-04</td>\n",
       "      <td>Pow Japan</td>\n",
       "    </tr>\n",
       "    <tr>\n",
       "      <th>7769</th>\n",
       "      <td>201604</td>\n",
       "      <td>1101</td>\n",
       "      <td>Amazin' Animals Pet Shop</td>\n",
       "      <td>09. Pow Japan</td>\n",
       "      <td>3</td>\n",
       "      <td>Non target products</td>\n",
       "      <td>4.0</td>\n",
       "      <td>5460.0</td>\n",
       "      <td>JPY</td>\n",
       "      <td>1.0</td>\n",
       "      <td>5460.0</td>\n",
       "      <td>2016-04</td>\n",
       "      <td>Pow Japan</td>\n",
       "    </tr>\n",
       "  </tbody>\n",
       "</table>\n",
       "</div>"
      ],
      "text/plain": [
       "      Year / Month  Company Code              Company Name Company Group Name  \\\n",
       "7768        201604          1101  Amazin' Animals Pet Shop      09. Pow Japan   \n",
       "7769        201604          1101  Amazin' Animals Pet Shop      09. Pow Japan   \n",
       "\n",
       "      3rd Party or Inter        Material Name  Sales Quantity  Actual Sales  \\\n",
       "7768                   3  Non target products             4.0       21000.0   \n",
       "7769                   3  Non target products             4.0        5460.0   \n",
       "\n",
       "     Plan Currency  ExRate  Actual Sales (Ex) Year-Month Display Co Name  \n",
       "7768           JPY     1.0            21000.0    2016-04       Pow Japan  \n",
       "7769           JPY     1.0             5460.0    2016-04       Pow Japan  "
      ]
     },
     "execution_count": 36,
     "metadata": {},
     "output_type": "execute_result"
    }
   ],
   "source": [
    "# Crate 'Month-Year' column (date period(M))\n",
    "#data_merged['Month']=data_merged['Year / Month'].astype(str)\n",
    "#data_merged['Month']=data_merged['Month'].apply(lambda x: x[:4]+'-'+x[4:7]+'-'+'01').astype('datetime64').dt.strftime('%Y-%m')\n",
    "\n",
    "#data_merged['Year-Month'] = pd.to_datetime(data_merged['Year / Month'].astype(str)\n",
    "#                            .apply(lambda x: x[:4]+'-'+x[4:7])).dt.to_period('m')\n",
    "data_merged.head(2)"
   ]
  },
  {
   "cell_type": "code",
   "execution_count": 37,
   "metadata": {
    "collapsed": true
   },
   "outputs": [],
   "source": [
    "# Apply the function above 'Extracted Name'カラムに関数を適用\n",
    "data_merged['Extracted Name'] = data_merged['Material Name']"
   ]
  },
  {
   "cell_type": "code",
   "execution_count": 38,
   "metadata": {
    "collapsed": true
   },
   "outputs": [],
   "source": [
    "# 集計対象商材のグループ定義\n",
    "mapping = [ ('Wobble Wag Giggle Ball', ['Wobble Wag Giggle Ball', 'Pet Zone IQ Treat Ball']),\n",
    "            ('Pet Bed & Comfort', ['Sneaker Pet Bed','Catit Design Senses Massage Center', 'Suck UK Laptop Cat Scratching Pad', 'K&H Thermo Cat Windowsill Seat', 'KritterWorld Microplush Pet Blanket']),\n",
    "            ('Holiday & Subscription Box', ['PupBox Holiday Box', 'Barkbox Subscription Box', 'MeowBox Monthly Subscription Box']),\n",
    "            ('Furbo Dog Camera', ['Furbo Dog Camera', 'Petcube Camera'])\n",
    "           ] \n",
    "\n",
    "d = dict()\n",
    "for (value, keys) in mapping:\n",
    "    for key in keys:\n",
    "        d[key] = value\n",
    "        \n",
    "\n",
    "#  '対象商材'カラム追加して上記のグループを適用 - just rename\n",
    "data_merged['対象商材'] = data_merged['Extracted Name'].apply(lambda x: d[x] if x in d else x)"
   ]
  },
  {
   "cell_type": "code",
   "execution_count": null,
   "metadata": {
    "collapsed": false
   },
   "outputs": [],
   "source": []
  },
  {
   "cell_type": "code",
   "execution_count": 39,
   "metadata": {
    "collapsed": false
   },
   "outputs": [],
   "source": [
    "#　'Material Name'から'対象商材'のマッピングをファイルに出力\n",
    "name_col = ['対象商材', 'Extracted Name','Material Name']\n",
    "product_mapping = data_merged[data_merged['対象商材'].notnull()][name_col].groupby(by=name_col).count() \n",
    "\n",
    "\n",
    "outfile_product_mapping = outputPath + '対象商材マッピング_{0}.xlsx'.format(str(report_date.date()))\n",
    "writer = pd.ExcelWriter(outfile_product_mapping)\n",
    "\n",
    "product_mapping.to_excel(writer, index=True)\n",
    "writer.save()\n",
    "writer.close()"
   ]
  },
  {
   "cell_type": "code",
   "execution_count": 40,
   "metadata": {
    "collapsed": false
   },
   "outputs": [],
   "source": [
    "# 抽出したいアイテムのロジックに当てはまらなかった Material List 商材をファイルに出力\n",
    "product_not_mapped = data_merged[data_merged['対象商材'].isnull()][name_col].groupby(by='Material Name').count() \n",
    "#product_not_mapped.sort_values(by='Material Name')\n",
    "\n",
    "\n",
    "outfile_product_mapping = outputPath + 'マッピングされなかった商材_{0}.xlsx'.format(str(report_date.date()))\n",
    "\n",
    "writer = pd.ExcelWriter(outfile_product_mapping)\n",
    "product_not_mapped.to_excel(writer, index=True)\n",
    "\n",
    "writer.save()\n",
    "writer.close()"
   ]
  },
  {
   "cell_type": "code",
   "execution_count": 41,
   "metadata": {
    "collapsed": false
   },
   "outputs": [
    {
     "data": {
      "text/html": [
       "<div>\n",
       "<table border=\"1\" class=\"dataframe\">\n",
       "  <thead>\n",
       "    <tr style=\"text-align: right;\">\n",
       "      <th></th>\n",
       "      <th>Year-Month</th>\n",
       "      <th>Company Code</th>\n",
       "      <th>Company Name</th>\n",
       "      <th>Company Group Name</th>\n",
       "      <th>Display Co Name</th>\n",
       "      <th>3rd Party or Inter</th>\n",
       "      <th>Material Name</th>\n",
       "      <th>Extracted Name</th>\n",
       "      <th>対象商材</th>\n",
       "      <th>Sales Quantity</th>\n",
       "      <th>Actual Sales</th>\n",
       "      <th>Plan Currency</th>\n",
       "      <th>ExRate</th>\n",
       "      <th>Actual Sales (Ex)</th>\n",
       "    </tr>\n",
       "  </thead>\n",
       "  <tbody>\n",
       "    <tr>\n",
       "      <th>52363</th>\n",
       "      <td>2016-04</td>\n",
       "      <td>1201</td>\n",
       "      <td>Pets Unleashed</td>\n",
       "      <td>04. Pow America</td>\n",
       "      <td>Pow America</td>\n",
       "      <td>3</td>\n",
       "      <td>Catit Senses 2.0 Circuit</td>\n",
       "      <td>Catit Senses 2.0 Circuit</td>\n",
       "      <td>Catit Senses 2.0 Circuit</td>\n",
       "      <td>4.0</td>\n",
       "      <td>540.0</td>\n",
       "      <td>USD</td>\n",
       "      <td>109.93</td>\n",
       "      <td>59362.2</td>\n",
       "    </tr>\n",
       "    <tr>\n",
       "      <th>58373</th>\n",
       "      <td>2016-04</td>\n",
       "      <td>1202</td>\n",
       "      <td>Pets Unlimited</td>\n",
       "      <td>04. Pow America</td>\n",
       "      <td>Pow America</td>\n",
       "      <td>3</td>\n",
       "      <td>Catit Senses 2.0 Circuit</td>\n",
       "      <td>Catit Senses 2.0 Circuit</td>\n",
       "      <td>Catit Senses 2.0 Circuit</td>\n",
       "      <td>2.0</td>\n",
       "      <td>0.0</td>\n",
       "      <td>CAD</td>\n",
       "      <td>NaN</td>\n",
       "      <td>0.0</td>\n",
       "    </tr>\n",
       "  </tbody>\n",
       "</table>\n",
       "</div>"
      ],
      "text/plain": [
       "      Year-Month  Company Code    Company Name Company Group Name  \\\n",
       "52363    2016-04          1201  Pets Unleashed    04. Pow America   \n",
       "58373    2016-04          1202  Pets Unlimited    04. Pow America   \n",
       "\n",
       "      Display Co Name  3rd Party or Inter             Material Name  \\\n",
       "52363     Pow America                   3  Catit Senses 2.0 Circuit   \n",
       "58373     Pow America                   3  Catit Senses 2.0 Circuit   \n",
       "\n",
       "                 Extracted Name                      対象商材  Sales Quantity  \\\n",
       "52363  Catit Senses 2.0 Circuit  Catit Senses 2.0 Circuit             4.0   \n",
       "58373  Catit Senses 2.0 Circuit  Catit Senses 2.0 Circuit             2.0   \n",
       "\n",
       "       Actual Sales Plan Currency  ExRate  Actual Sales (Ex)  \n",
       "52363         540.0           USD  109.93            59362.2  \n",
       "58373           0.0           CAD     NaN                0.0  "
      ]
     },
     "execution_count": 41,
     "metadata": {},
     "output_type": "execute_result"
    }
   ],
   "source": [
    "# 集計に必要なデータに限定する\n",
    "\n",
    "\n",
    "# Limit to reporting items レポート対象商材に限定\n",
    "report_items = data_merged[data_merged['対象商材'].notnull()]['対象商材'].unique().tolist()\n",
    "report_items.remove('Non target products')\n",
    "report_items=sorted(report_items)\n",
    "#print('レポート対象商材\\n', report_items)\n",
    "\n",
    "\n",
    "# Limit to reporting proucts and the last x years 過去x年に限定\n",
    "report_start_yr =current_FY_start - relativedelta(years=num_yr_to_aggregate)\n",
    "\n",
    "#standardize_sales_data = data_merged[(data_merged['対象商材'].notnull()) & (data_merged['Year / Month']>=report_start_yr)].copy() \n",
    "standardize_sales_data = data_merged[(data_merged['対象商材'].isin(report_items)) \n",
    "                                     & (data_merged['Year-Month']>=report_start_yr.to_period('m'))].copy() \n",
    "\n",
    "\n",
    "# ソート\n",
    "standardize_sales_data.sort_values(by=['対象商材', 'Extracted Name', 'Year-Month', 'Display Co Name'], inplace=True)\n",
    "\n",
    "#カラム順序並び替え\n",
    "standardize_sales_data=standardize_sales_data[['Year-Month', 'Company Code', 'Company Name', 'Company Group Name', \n",
    "                                               'Display Co Name','3rd Party or Inter', \n",
    "                                               'Material Name', 'Extracted Name', '対象商材', 'Sales Quantity', \n",
    "                                               'Actual Sales', 'Plan Currency', 'ExRate', 'Actual Sales (Ex)']]\n",
    "\n",
    "standardize_sales_data.head(2)"
   ]
  },
  {
   "cell_type": "markdown",
   "metadata": {},
   "source": [
    "## Write merged sales data to output (BIツール用　統一したKDCとTA販売データを出力)"
   ]
  },
  {
   "cell_type": "code",
   "execution_count": 42,
   "metadata": {
    "collapsed": true
   },
   "outputs": [],
   "source": [
    "## BIツール用　集計してないデータを出力　TAマージン率と為替変換は済み"
   ]
  },
  {
   "cell_type": "code",
   "execution_count": 43,
   "metadata": {
    "collapsed": false
   },
   "outputs": [],
   "source": [
    "output_data = outputPath + 'BIツール用集計してない実績_{0}.xlsx'.format(str(report_date.date()))\n",
    "writer = pd.ExcelWriter(output_data)\n",
    "\n",
    "standardize_sales_data.to_excel(writer, 'Sales Data', index=False)\n",
    "writer.save()\n",
    "#writer.close()"
   ]
  },
  {
   "cell_type": "markdown",
   "metadata": {},
   "source": [
    "## Write aggregated data to output (集計結果の出力)"
   ]
  },
  {
   "cell_type": "code",
   "execution_count": 44,
   "metadata": {
    "collapsed": false
   },
   "outputs": [
    {
     "data": {
      "text/html": [
       "<div>\n",
       "<table border=\"1\" class=\"dataframe\">\n",
       "  <thead>\n",
       "    <tr style=\"text-align: right;\">\n",
       "      <th></th>\n",
       "      <th></th>\n",
       "      <th></th>\n",
       "      <th></th>\n",
       "      <th>Sales Quantity</th>\n",
       "      <th>Actual Sales (Ex)</th>\n",
       "      <th>Actual Sales (Ex) in 1000</th>\n",
       "    </tr>\n",
       "    <tr>\n",
       "      <th>対象商材</th>\n",
       "      <th>3rd Party or Inter</th>\n",
       "      <th>Year-Month</th>\n",
       "      <th>Display Co Name</th>\n",
       "      <th></th>\n",
       "      <th></th>\n",
       "      <th></th>\n",
       "    </tr>\n",
       "  </thead>\n",
       "  <tbody>\n",
       "    <tr>\n",
       "      <th rowspan=\"5\" valign=\"top\">Catit Senses 2.0 Circuit</th>\n",
       "      <th rowspan=\"5\" valign=\"top\">3</th>\n",
       "      <th rowspan=\"5\" valign=\"top\">2016-04</th>\n",
       "      <th>Pow America</th>\n",
       "      <td>6.0</td>\n",
       "      <td>59362.200</td>\n",
       "      <td>59.362200</td>\n",
       "    </tr>\n",
       "    <tr>\n",
       "      <th>Pow Europe</th>\n",
       "      <td>384.0</td>\n",
       "      <td>1873872.290</td>\n",
       "      <td>1873.872290</td>\n",
       "    </tr>\n",
       "    <tr>\n",
       "      <th>Pow Japan</th>\n",
       "      <td>12.0</td>\n",
       "      <td>183000.000</td>\n",
       "      <td>183.000000</td>\n",
       "    </tr>\n",
       "    <tr>\n",
       "      <th>Pow Oceania</th>\n",
       "      <td>1.0</td>\n",
       "      <td>6151.710</td>\n",
       "      <td>6.151710</td>\n",
       "    </tr>\n",
       "    <tr>\n",
       "      <th>TA</th>\n",
       "      <td>3.0</td>\n",
       "      <td>24970.715</td>\n",
       "      <td>24.970715</td>\n",
       "    </tr>\n",
       "  </tbody>\n",
       "</table>\n",
       "</div>"
      ],
      "text/plain": [
       "                                                                        Sales Quantity  \\\n",
       "対象商材                     3rd Party or Inter Year-Month Display Co Name                   \n",
       "Catit Senses 2.0 Circuit 3                  2016-04     Pow America                6.0   \n",
       "                                                        Pow Europe               384.0   \n",
       "                                                        Pow Japan                 12.0   \n",
       "                                                        Pow Oceania                1.0   \n",
       "                                                       TA                          3.0   \n",
       "\n",
       "                                                                        Actual Sales (Ex)  \\\n",
       "対象商材                     3rd Party or Inter Year-Month Display Co Name                      \n",
       "Catit Senses 2.0 Circuit 3                  2016-04     Pow America             59362.200   \n",
       "                                                        Pow Europe            1873872.290   \n",
       "                                                        Pow Japan              183000.000   \n",
       "                                                        Pow Oceania              6151.710   \n",
       "                                                       TA                       24970.715   \n",
       "\n",
       "                                                                        Actual Sales (Ex) in 1000  \n",
       "対象商材                     3rd Party or Inter Year-Month Display Co Name                             \n",
       "Catit Senses 2.0 Circuit 3                  2016-04     Pow America                     59.362200  \n",
       "                                                        Pow Europe                    1873.872290  \n",
       "                                                        Pow Japan                      183.000000  \n",
       "                                                        Pow Oceania                      6.151710  \n",
       "                                                       TA                               24.970715  "
      ]
     },
     "execution_count": 44,
     "metadata": {},
     "output_type": "execute_result"
    }
   ],
   "source": [
    "display_cols = ['Year-Month', '3rd Party or Inter', 'Display Co Name', '対象商材', 'Sales Quantity', 'Actual Sales (Ex)']\n",
    "agg_cols = ['対象商材', '3rd Party or Inter' ,'Year-Month', 'Display Co Name' ]\n",
    "\n",
    "agg_sales_last5FY = standardize_sales_data[display_cols].groupby(by=agg_cols).sum()\n",
    "agg_sales_last5FY['Actual Sales (Ex) in 1000']  = agg_sales_last5FY['Actual Sales (Ex)']/1000\n",
    "\n",
    "agg_sales_last5FY.head()"
   ]
  },
  {
   "cell_type": "code",
   "execution_count": 45,
   "metadata": {
    "collapsed": false
   },
   "outputs": [],
   "source": [
    "# t=agg_sales_last5FY.reset_index()\n",
    "# t.head()"
   ]
  },
  {
   "cell_type": "code",
   "execution_count": 46,
   "metadata": {
    "collapsed": false
   },
   "outputs": [],
   "source": [
    "output_agg = outputPath + '集計結果_Last5FY_{0}.xlsx'.format(str(report_date.date()))\n",
    "#output_agg = r'C:\\Users\\ymatsukawa\\Documents\\Project\\OptionSales\\集計結果_Last5FY_{0}_new3.xlsx'.format(str(report_date.date()))\n",
    "writer = pd.ExcelWriter(output_agg)\n",
    "\n",
    "agg_sales_last5FY.reset_index().to_excel(writer, 'Aggregated', index=False)\n",
    "writer.save()"
   ]
  },
  {
   "cell_type": "markdown",
   "metadata": {},
   "source": [
    "## Plot Graphs"
   ]
  },
  {
   "cell_type": "code",
   "execution_count": 47,
   "metadata": {
    "collapsed": false
   },
   "outputs": [],
   "source": [
    "# # グラフ配色 RGB\n",
    "# # Tableau colors - These are the \"Tableau 20\" colors as RGB.    \n",
    "# tableau20 = [(31, 119, 180), (174, 199, 232), (255, 127, 14), (255, 187, 120),    \n",
    "#              (44, 160, 44), (152, 223, 138), (214, 39, 40), (255, 152, 150),    \n",
    "#              (148, 103, 189), (197, 176, 213), (140, 86, 75), (196, 156, 148),    \n",
    "#              (227, 119, 194), (247, 182, 210), (127, 127, 127), (199, 199, 199),    \n",
    "#              (188, 189, 34), (219, 219, 141), (23, 190, 207), (158, 218, 229)]    \n",
    "  \n",
    "# # Scale the RGB values to the [0, 1] range, which is the format matplotlib accepts.    \n",
    "# for i in range(len(tableau20)):    \n",
    "#     r, g, b = tableau20[i]    \n",
    "#     tableau20[i] = (r / 255., g / 255., b / 255.)    \n",
    "\n",
    "# #colors = ['peru', 'gold', 'olivedrab', 'orange', 'steelblue', 'lightcoral', 'darkslateblue', 'tan', 'palevioletred']"
   ]
  },
  {
   "cell_type": "code",
   "execution_count": 48,
   "metadata": {
    "collapsed": false
   },
   "outputs": [],
   "source": [
    "# # 関数　右Y軸と左Y軸の０を同じ高さに揃える\n",
    "# def align_yaxis(ax1, ax2):\n",
    "#     \"\"\"Align zeros of the two axes, zooming them out by same ratio\"\"\"\n",
    "#     axes = (ax1, ax2)\n",
    "#     extrema = [ax.get_ylim() for ax in axes]\n",
    "#     tops = [extr[1] / (extr[1] - extr[0]) for extr in extrema]\n",
    "#     # Ensure that plots (intervals) are ordered bottom to top:\n",
    "#     if tops[0] > tops[1]:\n",
    "#         axes, extrema, tops = [list(reversed(l)) for l in (axes, extrema, tops)]\n",
    "\n",
    "#     # How much would the plot overflow if we kept current zoom levels?\n",
    "#     tot_span = tops[1] + 1 - tops[0]\n",
    "\n",
    "#     b_new_t = extrema[0][0] + tot_span * (extrema[0][1] - extrema[0][0])\n",
    "#     t_new_b = extrema[1][1] - tot_span * (extrema[1][1] - extrema[1][0])\n",
    "#     axes[0].set_ylim(extrema[0][0], b_new_t)\n",
    "#     axes[1].set_ylim(t_new_b, extrema[1][1])"
   ]
  },
  {
   "cell_type": "code",
   "execution_count": 49,
   "metadata": {
    "collapsed": false
   },
   "outputs": [],
   "source": [
    "# # Functions used for charts\n",
    "# # These need to be defined in the box below\n",
    "# #\n",
    "# # current_FY_start_mo = current_FY_start.to_period('m')\n",
    "# # last_FY_start_mo = last_FY_start.to_period('m')\n",
    "# # report_date_mo = report_date.to_period('m')\n",
    "\n",
    "# # Insert 0 if there is no entry for the month\n",
    "# def getChartData(df, item):\n",
    "# #agg_sales_last5FY.iloc[agg_sales_last5FY.index.get_level_values('対象商材') == item].reset_index()\n",
    "#     df1 = df[(df['対象商材']==item) & (df['Year-Month']>=last_FY_start_mo)]\n",
    "    \n",
    "    \n",
    "#     # create df with months of chart range\n",
    "#     idx = pd.date_range(last_FY_start, report_date, freq='M').to_period('m')\n",
    "#     d={'Year-Month':list(idx), 'key':1}\n",
    "#     df_month=pd.DataFrame(d)\n",
    "\n",
    "#     # create df with company that has a record in this FY and last FY\n",
    "#     co = df1['Display Co Name'].unique().tolist()\n",
    "#     d = {'Display Co Name': co, 'key':1}\n",
    "#     df_co = pd.DataFrame(d)\n",
    "    \n",
    "#     df_month_co = pd.merge(df_month, df_co, how='inner', on='key')\n",
    "    \n",
    "#     df2=pd.merge(df_month_co, df1, how ='left', on = ['Year-Month', 'Display Co Name'])\n",
    "#     df2.fillna(value =0, inplace=True)\n",
    "#     df2['対象商材']=item\n",
    "#     df2['3rd Party or Inter']=3\n",
    " \n",
    "#     return df2\n",
    "\n",
    "\n",
    "# def get_thisFY_pivot_df(df): \n",
    "    \n",
    "#     df = df[(df['Year-Month']>= current_FY_start_mo) & (df['Year-Month']<= report_date_mo)].pivot(index='Year-Month', \n",
    "#                                                                                                   columns='Display Co Name')['Actual Sales (Ex) in 1000']\n",
    "    \n",
    "#     return df\n",
    "\n",
    "\n",
    "\n",
    "# def get_chart_df(df, start_mo, end_mo):\n",
    "    \n",
    "#     df_FY = df[(df['Year-Month']>= start_mo) & (df['Year-Month']<= end_mo)].copy()\n",
    "#     df_FY_agg = df_FY.groupby(by='Year-Month').sum().reset_index()[['Year-Month', 'Actual Sales (Ex) in 1000']]\n",
    "\n",
    "#     # Add cumulative column\n",
    "#     df_FY_agg['Cumulative'] = df_FY_agg['Actual Sales (Ex) in 1000'].cumsum()\n",
    "\n",
    "#     return df_FY_agg"
   ]
  },
  {
   "cell_type": "code",
   "execution_count": 50,
   "metadata": {
    "collapsed": false
   },
   "outputs": [],
   "source": [
    "# # Function to plot chart\n",
    "# def plotChart(df_thisFY_pivot, df_thisFY, df_lastFY):\n",
    "    \n",
    "    \n",
    "#      # 棒グラフ配色\n",
    "#     colors = tableau20\n",
    "    \n",
    "#     width = 0.3\n",
    "#     shift = width/2\n",
    "\n",
    "#     fig = plt.figure(figsize=(12, 6))\n",
    "#     ax = plt.subplot(111)\n",
    "\n",
    "#     #　今年度棒グラフ\n",
    "#     df_thisFY_pivot.plot(kind='bar', stacked=True, width=width, ax=ax, position = 0, \n",
    "#                          color = colors if df_thisFY_pivot.shape[1]>1 else colors[0], linewidth = 0.5)\n",
    " \n",
    "#     # 前年度棒グラフ\n",
    "#     df_lastFY['Actual Sales (Ex) in 1000'].plot(kind='bar', width=width, ax=ax, color='darkgray', label='Last Year', \n",
    "#                                                 position=1, linewidth = 0, grid=True)\n",
    "#     #ax2 = df_lastFY['Actual Sales (Ex) in 1000'].plot(kind='bar', width=width, ax=ax, color='darkgray', label='Last Year', position=1, linewidth = 0, grid=True)\n",
    "\n",
    "#     # 前年度折れ線グラフ\n",
    "#     ax2=df_lastFY['Cumulative'].plot(kind='line', color=tableau20[6], secondary_y=True, linewidth=2, style='.--' ,\n",
    "#                                              grid=True, label='Cumulative Last Year')\n",
    "\n",
    "#     # 今年度折れ線グラフ\n",
    "#     ax2=df_thisFY['Cumulative'].plot(kind='line', color=tableau20[6], secondary_y=True, linewidth=2, style='.-' ,\n",
    "#                                              grid=True, label='Cumulative This Year')\n",
    "\n",
    "\n",
    "#     #fig.suptitle('Super title')\n",
    "#     plt.title('FY2018 {0} Sales Result (3rd Party Sales)'.format(item), fontsize=14)\n",
    "\n",
    "#     ax.set_xlabel(' ', fontsize = 10) #Month\n",
    "#     ax.set_ylabel('Unit in 1,000 Yen', fontsize = 12)\n",
    "#     ax2.set_ylabel('Cumulative', fontsize = 12)\n",
    "\n",
    "#     plt.xlim([-1,12])\n",
    "#     plt.xticks(range(12), ['Apr', 'May', 'Jun', 'Jul', 'Aug', 'Sep', 'Oct', 'Nov', 'Dec', 'Jan', 'Feb', 'Mar'], rotation=360)\n",
    "\n",
    "#     # Legend\n",
    "#     ax.legend(loc='upper center', bbox_to_anchor=(0.5, -0.08), shadow=False, ncol=5, frameon=False) # under\n",
    "#     ax2.legend(loc='center', bbox_to_anchor=(0.5, -0.08), shadow=False, ncol=5, frameon=False) # under\n",
    "\n",
    "    \n",
    "#     # Value label 数値ラベル\n",
    "\n",
    "#     # 今年度折れ線グラフ\n",
    "#     for i, label in enumerate(list(df_thisFY.index)):\n",
    "#         height = df_thisFY.ix[label]['Cumulative']\n",
    "#         #offset = height*.10 if height < 500 else height/(np.power(np.log(height), 2)*2)\n",
    "#         offset = 0\n",
    "#         ax2.annotate('¥{0:,.{1}f}'.format(height, 0), (i, height), clip_on=True, color='navy', fontsize=11,\n",
    "#                      weight = 'bold', va='bottom', horizontalalignment = 'right') # height+offset\n",
    "\n",
    "#     # 昨年度折れ線グラフ\n",
    "#     for i, label in enumerate(list(df_lastFY.index)):\n",
    "#         height = df_lastFY.ix[label]['Cumulative'] \n",
    "#         #offset = height*.10 if height < 500 else height/(np.power(np.log(height), 2)*2)\n",
    "#         offset = 1 if height >= 20 else -1\n",
    "#         ax2.annotate('¥{0:,.{1}f}'.format(height, 0), (i, height-offset), clip_on=True, color=tableau20[6], fontsize=11,\n",
    "#                     va='top' if height >= 20 else 'bottom', \n",
    "#                     horizontalalignment = 'left')\n",
    "\n",
    "    \n",
    "#     align_yaxis(ax, ax2)\n",
    "    \n",
    "    \n",
    "#      # pngに出力\n",
    "#     output_chart = outputPath + '{0}_{1}.png'.format(item, report_date.date())\n",
    "#     plt.savefig(output_chart, dpi=300, bbox_inches='tight')\n",
    "#     #plt.savefig(output_chart, dpi=300)\n",
    "\n",
    "#     plt.close(fig)"
   ]
  },
  {
   "cell_type": "code",
   "execution_count": 51,
   "metadata": {
    "collapsed": false,
    "scrolled": false
   },
   "outputs": [
    {
     "name": "stdout",
     "output_type": "stream",
     "text": [
      "Creating a graph for Catit Senses 2.0 Circuit\n",
      "Creating a graph for Doggie Drinklets Portable Water Bowl\n",
      "Creating a graph for Drs. Foster & Smith Whack-a-Mouse Cat Toy\n",
      "Creating a graph for Facial Massage Roller for Cats\n",
      "Creating a graph for FireboltCreations Custom Pet Pillow\n",
      "Creating a graph for Furbo Dog Camera\n",
      "Creating a graph for H2O4K9 Doggy Water Bottle\n",
      "Creating a graph for Hammacher Schlemmer Feline's Laser Chasing Scratch Post\n",
      "Creating a graph for Holiday & Subscription Box\n",
      "Creating a graph for Kong Rubber Dog Frisbee\n",
      "Creating a graph for Magic Latch Leash Connection Sytem\n",
      "Creating a graph for Modkat Litter Box\n",
      "Creating a graph for Munchiecat Sushi Cat Toys\n",
      "Creating a graph for Pet Bed & Comfort\n",
      "Creating a graph for Pet Gear Pup Tub\n",
      "Creating a graph for Petcube Play\n",
      "Creating a graph for Pooch Selfie: The Original Dog Selfie Stick\n",
      "Creating a graph for Siensync Interactive Feeder Dog Bowl\n",
      "Creating a graph for Sneaker Pet Bed \n",
      "Creating a graph for The Honest Kitchen Bone Broth\n",
      "Creating a graph for U-pet Carriers\n",
      "Creating a graph for Victoruan Cozy Kennel\n",
      "Creating a graph for Wobble Wag Giggle Ball\n",
      "Creating a graph for Woof Washer 360 by BulbHead\n"
     ]
    }
   ],
   "source": [
    "# Create Last FY and This FY's data df and plot charts, save to files\n",
    "\n",
    "# width = 0.3\n",
    "# shift = width/2\n",
    "\n",
    "# Convert date to 'Month'-period\n",
    "report_date_mo = report_date.to_period('m')\n",
    "current_FY_start_mo = current_FY_start.to_period('m')\n",
    "last_FY_start_mo = last_FY_start.to_period('m')\n",
    "last_FY_end_mo = (current_FY_start-relativedelta(months=1)).to_period('m')\n",
    "\n",
    "\n",
    "reset_data = agg_sales_last5FY.reset_index()\n",
    "\n",
    "#report_items=['CloudDirect']\n",
    "for item in report_items:\n",
    "    print('Creating a graph for', item)\n",
    "    \n",
    "    temp2 = utils.getChartData(reset_data, item, last_FY_start_mo, last_FY_start, report_date)\n",
    "    #print(temp2)\n",
    "    \n",
    "    # This FY data, pivotted (multiple columns for company) for stacked bar graph\n",
    "    df_thisFY_pivot = utils.get_thisFY_pivot_df(temp2, current_FY_start_mo, report_date_mo)\n",
    "    #df_thisFY_pivot =temp2[(temp2['Year-Month']>= current_FY_start_mo) & (temp2['Year-Month']<= report_date_mo)].pivot(index='Year-Month', columns='Display Co Name')['Actual Sales (Ex) in 1000']\n",
    "\n",
    "    # This FY df, NOT pivotted for this FY line graph\n",
    "    chart_df_thisFY = utils.get_chart_df(temp2, current_FY_start_mo, report_date_mo)\n",
    "\n",
    "    # Last FY df, NOT pivotted for both bar and line graph\n",
    "    chart_df_lastFY = utils.get_chart_df(temp2, last_FY_start_mo, last_FY_end_mo)\n",
    "    \n",
    "    # Plot chart\n",
    "    utils.plotChart(df_thisFY_pivot, chart_df_thisFY, chart_df_lastFY, item, report_date, outputPath)\n"
   ]
  },
  {
   "cell_type": "code",
   "execution_count": null,
   "metadata": {
    "collapsed": true
   },
   "outputs": [],
   "source": []
  },
  {
   "cell_type": "code",
   "execution_count": null,
   "metadata": {
    "collapsed": true
   },
   "outputs": [],
   "source": []
  }
 ],
 "metadata": {
  "anaconda-cloud": {},
  "kernelspec": {
   "display_name": "Python [conda root]",
   "language": "python",
   "name": "conda-root-py"
  },
  "language_info": {
   "codemirror_mode": {
    "name": "ipython",
    "version": 3
   },
   "file_extension": ".py",
   "mimetype": "text/x-python",
   "name": "python",
   "nbconvert_exporter": "python",
   "pygments_lexer": "ipython3",
   "version": "3.5.2"
  }
 },
 "nbformat": 4,
 "nbformat_minor": 1
}
