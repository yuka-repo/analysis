{
 "cells": [
  {
   "cell_type": "markdown",
   "metadata": {},
   "source": [
    "## Pet Store Global Sales Report"
   ]
  },
  {
   "cell_type": "code",
   "execution_count": 1,
   "metadata": {
    "collapsed": false
   },
   "outputs": [],
   "source": [
    "import pandas as pd\n",
    "import numpy as np\n",
    "import matplotlib.pyplot as plt\n",
    "\n",
    "import utils\n",
    "\n",
    "import re\n",
    "from os import path\n",
    "\n",
    "from datetime import datetime\n",
    "from dateutil.relativedelta import relativedelta\n",
    "\n",
    "%matplotlib inline\n",
    "%load_ext autoreload\n",
    "%autoreload 2"
   ]
  },
  {
   "cell_type": "markdown",
   "metadata": {},
   "source": [
    "## Input data"
   ]
  },
  {
   "cell_type": "code",
   "execution_count": 2,
   "metadata": {
    "collapsed": true
   },
   "outputs": [],
   "source": [
    "# Enter inputs\n",
    "current_FY_start='2017/4/1' # Current fiscal year start date\n",
    "report_date='2017/8/31'     # Report end date \n",
    "\n",
    "num_yr_to_aggregate = 2     # Number of years to calculate"
   ]
  },
  {
   "cell_type": "code",
   "execution_count": 3,
   "metadata": {
    "collapsed": false,
    "scrolled": true
   },
   "outputs": [],
   "source": [
    "# Working directory　\n",
    "filePath='data/'\n",
    "outputPath='output/'\n",
    "\n",
    "# Japan sales data \n",
    "kdc_thisFY = 'JP_Sales FY2018_gitHub.xlsx' # This FY\n",
    "kdc_lastFY = 'JP_Sales FY2017_gitHub.xlsx' # Last FY\n",
    "#kdc_last10FY = 'Sales - Soft・Serv_Prod_FY2010-2016.xlsx' # Last 10 years\n",
    "\n",
    "# Europe sales data\n",
    "taDict = dict()\n",
    "taDict[0] = 'EU_Sales_Report_FY2017_gitHub.xlsx'\n",
    "taDict[1] = 'EU_Sales_Report_FY201804_gitHub.xlsx'\n",
    "taDict[2] = 'EU_Sales_Report_FY201805_gitHub.xlsx' \n",
    "taDict[3] = 'EU_Sales_Report_FY201806_gitHub.xlsx' \n",
    "taDict[4] = 'EU_Sales_Report_FY201807_gitHub.xlsx' \n",
    "taDict[5] = 'EU_Sales_Report_FY201808_gitHub.xlsx' \n",
    "\n",
    "# Margin and Exchange Rate\n",
    "ta_margin =  'Europe_margin_rate.xlsx' # TA margin rate\n",
    "\n",
    "ta_ex_thisFY = 'Exchange Rate_FY2018.xlsx' \n",
    "ta_ex_lastFY = 'Exchange Rate_FY2017.xlsx'"
   ]
  },
  {
   "cell_type": "code",
   "execution_count": 4,
   "metadata": {
    "collapsed": false
   },
   "outputs": [],
   "source": [
    "current_FY_start = pd.Timestamp(current_FY_start)\n",
    "last_FY_start = current_FY_start - relativedelta(years = 1)\n",
    "report_date = pd.Timestamp(report_date)"
   ]
  },
  {
   "cell_type": "markdown",
   "metadata": {},
   "source": [
    "## Japan Sales Data"
   ]
  },
  {
   "cell_type": "code",
   "execution_count": 5,
   "metadata": {
    "collapsed": false
   },
   "outputs": [],
   "source": [
    "# Read in Japan data files\n",
    "kdc2 = pd.read_excel(path.abspath(filePath + kdc_lastFY),  skiprows=3)\n",
    "kdc3 = pd.read_excel(path.abspath(filePath + kdc_thisFY),  skiprows=3)"
   ]
  },
  {
   "cell_type": "code",
   "execution_count": 6,
   "metadata": {
    "collapsed": false
   },
   "outputs": [
    {
     "name": "stdout",
     "output_type": "stream",
     "text": [
      "file 2 (row, col):  (80217, 15)\n",
      "file 3 (row, col):  (35308, 15)\n",
      "Number of duplicates to be removed:  7520\n",
      "Total: (row, col) (108005, 15)\n"
     ]
    }
   ],
   "source": [
    "# Concatenate data\n",
    "kdc_data = pd.concat([kdc2, kdc3])\n",
    "\n",
    "#print('file 1 (row, col): ', kdc1.shape)\n",
    "print('file 2 (row, col): ', kdc2.shape)\n",
    "print('file 3 (row, col): ', kdc3.shape)\n",
    "\n",
    "print('Number of duplicates to be removed: ', kdc_data[kdc_data.duplicated()].shape[0])\n",
    "kdc_data.drop_duplicates(inplace=True)\n",
    "print('Total: (row, col)', kdc_data.shape)"
   ]
  },
  {
   "cell_type": "code",
   "execution_count": 7,
   "metadata": {
    "collapsed": false
   },
   "outputs": [
    {
     "data": {
      "text/html": [
       "<div>\n",
       "<table border=\"1\" class=\"dataframe\">\n",
       "  <thead>\n",
       "    <tr style=\"text-align: right;\">\n",
       "      <th></th>\n",
       "      <th>Year / Month</th>\n",
       "      <th>Company Code</th>\n",
       "      <th>Company Name</th>\n",
       "      <th>Company Group Name</th>\n",
       "      <th>3rd Party or Inter</th>\n",
       "      <th>Material Name</th>\n",
       "      <th>Sales Quantity</th>\n",
       "      <th>Actual Sales</th>\n",
       "      <th>Plan Currency</th>\n",
       "      <th>Actual Sales (Ex)</th>\n",
       "    </tr>\n",
       "  </thead>\n",
       "  <tbody>\n",
       "    <tr>\n",
       "      <th>0</th>\n",
       "      <td>201604</td>\n",
       "      <td>1001</td>\n",
       "      <td>Alley Cats Pet Shop</td>\n",
       "      <td>08. Pow Production-G1</td>\n",
       "      <td>2</td>\n",
       "      <td>Non target products</td>\n",
       "      <td>33.0</td>\n",
       "      <td>373138.0</td>\n",
       "      <td>JPY</td>\n",
       "      <td>373138.0</td>\n",
       "    </tr>\n",
       "    <tr>\n",
       "      <th>1</th>\n",
       "      <td>201604</td>\n",
       "      <td>1001</td>\n",
       "      <td>Alley Cats Pet Shop</td>\n",
       "      <td>08. Pow Production-G1</td>\n",
       "      <td>2</td>\n",
       "      <td>Non target products</td>\n",
       "      <td>15.0</td>\n",
       "      <td>-68318.0</td>\n",
       "      <td>JPY</td>\n",
       "      <td>-68318.0</td>\n",
       "    </tr>\n",
       "  </tbody>\n",
       "</table>\n",
       "</div>"
      ],
      "text/plain": [
       "   Year / Month  Company Code         Company Name     Company Group Name  \\\n",
       "0        201604          1001  Alley Cats Pet Shop  08. Pow Production-G1   \n",
       "1        201604          1001  Alley Cats Pet Shop  08. Pow Production-G1   \n",
       "\n",
       "   3rd Party or Inter        Material Name  Sales Quantity  Actual Sales  \\\n",
       "0                   2  Non target products            33.0      373138.0   \n",
       "1                   2  Non target products            15.0      -68318.0   \n",
       "\n",
       "  Plan Currency  Actual Sales (Ex)  \n",
       "0           JPY           373138.0  \n",
       "1           JPY           -68318.0  "
      ]
     },
     "execution_count": 7,
     "metadata": {},
     "output_type": "execute_result"
    }
   ],
   "source": [
    "# Limit columns \n",
    "kdc_data2 = kdc_data[['Year / Month','Company Code', 'Company Name', 'Company Group Name',\n",
    "                      '3rd Party or Inter',  'Material Name','Sales Quantity',\n",
    "                      'Actual Sales','Plan Currency' ,'Actual Sales (Ex)' ]].copy()\n",
    "kdc_data2.head(2)"
   ]
  },
  {
   "cell_type": "code",
   "execution_count": 8,
   "metadata": {
    "collapsed": false
   },
   "outputs": [
    {
     "name": "stdout",
     "output_type": "stream",
     "text": [
      "Shape:  (108005, 10)\n",
      "Shape:  (71664, 11)\n"
     ]
    },
    {
     "data": {
      "text/html": [
       "<div>\n",
       "<table border=\"1\" class=\"dataframe\">\n",
       "  <thead>\n",
       "    <tr style=\"text-align: right;\">\n",
       "      <th></th>\n",
       "      <th>Year / Month</th>\n",
       "      <th>Company Code</th>\n",
       "      <th>Company Name</th>\n",
       "      <th>Company Group Name</th>\n",
       "      <th>3rd Party or Inter</th>\n",
       "      <th>Material Name</th>\n",
       "      <th>Sales Quantity</th>\n",
       "      <th>Actual Sales</th>\n",
       "      <th>Plan Currency</th>\n",
       "      <th>ExRate</th>\n",
       "      <th>Actual Sales (Ex)</th>\n",
       "    </tr>\n",
       "  </thead>\n",
       "  <tbody>\n",
       "    <tr>\n",
       "      <th>7768</th>\n",
       "      <td>201604</td>\n",
       "      <td>1101</td>\n",
       "      <td>Amazin' Animals Pet Shop</td>\n",
       "      <td>09. Pow Japan</td>\n",
       "      <td>3</td>\n",
       "      <td>Non target products</td>\n",
       "      <td>4.0</td>\n",
       "      <td>21000.0</td>\n",
       "      <td>JPY</td>\n",
       "      <td>1.0</td>\n",
       "      <td>21000.0</td>\n",
       "    </tr>\n",
       "    <tr>\n",
       "      <th>7769</th>\n",
       "      <td>201604</td>\n",
       "      <td>1101</td>\n",
       "      <td>Amazin' Animals Pet Shop</td>\n",
       "      <td>09. Pow Japan</td>\n",
       "      <td>3</td>\n",
       "      <td>Non target products</td>\n",
       "      <td>4.0</td>\n",
       "      <td>5460.0</td>\n",
       "      <td>JPY</td>\n",
       "      <td>1.0</td>\n",
       "      <td>5460.0</td>\n",
       "    </tr>\n",
       "  </tbody>\n",
       "</table>\n",
       "</div>"
      ],
      "text/plain": [
       "      Year / Month  Company Code              Company Name Company Group Name  \\\n",
       "7768        201604          1101  Amazin' Animals Pet Shop      09. Pow Japan   \n",
       "7769        201604          1101  Amazin' Animals Pet Shop      09. Pow Japan   \n",
       "\n",
       "      3rd Party or Inter        Material Name  Sales Quantity  Actual Sales  \\\n",
       "7768                   3  Non target products             4.0       21000.0   \n",
       "7769                   3  Non target products             4.0        5460.0   \n",
       "\n",
       "     Plan Currency  ExRate  Actual Sales (Ex)  \n",
       "7768           JPY     1.0            21000.0  \n",
       "7769           JPY     1.0             5460.0  "
      ]
     },
     "execution_count": 8,
     "metadata": {},
     "output_type": "execute_result"
    }
   ],
   "source": [
    "# Clean up KDC data\n",
    "\n",
    "print('Shape: ', kdc_data2.shape)\n",
    "\n",
    "# Delete rows if these columns are null\n",
    "kdc_data2.dropna(how='all', inplace=True)  \n",
    "kdc_data2 = kdc_data2[kdc_data2['Material Name'].notnull()]\n",
    "kdc_data2 = kdc_data2[kdc_data2['Actual Sales'].notnull()]\n",
    "kdc_data2 = kdc_data2[kdc_data2['Year / Month'].notnull()]\n",
    "kdc_data2 = kdc_data2[kdc_data2['Company Group Name'].notnull()]\n",
    "\n",
    "# Limit to 3rd party only\n",
    "kdc_data2['3rd Party or Inter']=kdc_data2['3rd Party or Inter'].astype(int)\n",
    "kdc_data2 = kdc_data2[(kdc_data2['3rd Party or Inter'])==3]\n",
    "\n",
    "# Remove \"Production-G and Production-G2\". Don't need them.\n",
    "kdc_data2 = kdc_data2[~kdc_data2['Company Group Name'].str.contains('roduction')]\n",
    "\n",
    "# Convert to year/month to int\n",
    "kdc_data2['Year / Month'] = kdc_data2['Year / Month'].astype(int)\n",
    "\n",
    "# Add 'ExRate' column. This is dummy, not used. For the purpose of matching columns with TA.\n",
    "kdc_data2['ExRate'] = kdc_data2['Actual Sales (Ex)']/kdc_data2['Actual Sales']\n",
    "\n",
    "# Reorder columns\n",
    "cols = ['Year / Month','Company Code', 'Company Name', 'Company Group Name','3rd Party or Inter',  \n",
    "        'Material Name','Sales Quantity','Actual Sales','Plan Currency','ExRate','Actual Sales (Ex)' ]\n",
    "\n",
    "kdc_data2 = kdc_data2[cols]\n",
    "\n",
    "print('Shape: ', kdc_data2.shape)\n",
    "kdc_data2.head(2)"
   ]
  },
  {
   "cell_type": "markdown",
   "metadata": {},
   "source": [
    "## TA Data"
   ]
  },
  {
   "cell_type": "code",
   "execution_count": 9,
   "metadata": {
    "collapsed": false
   },
   "outputs": [
    {
     "name": "stdout",
     "output_type": "stream",
     "text": [
      "Reading TA_Sales_Report_FY2017_gitHub.xlsx (13078, 13)\n",
      "Reading TA_Sales_Report_FY201804_gitHub.xlsx (939, 13)\n",
      "Reading TA_Sales_Report_FY201805_gitHub.xlsx (358, 13)\n",
      "Reading TA_Sales_Report_FY201806_gitHub.xlsx (445, 13)\n",
      "Reading TA_Sales_Report_FY201807_gitHub.xlsx (333, 13)\n",
      "Reading TA_Sales_Report_FY201808_gitHub.xlsx (372, 13)\n",
      "(15525, 13)\n"
     ]
    }
   ],
   "source": [
    "# Read in this FY TA data\n",
    "\n",
    "ta_files_to_read = [taDict[k] for k in sorted(taDict.keys()) if len(taDict[k])>0]\n",
    "\n",
    "ta_data =pd.DataFrame([])\n",
    "for f in ta_files_to_read:\n",
    "    temp = pd.read_excel(filePath + f)\n",
    "    print('Reading ' + f, temp.shape)\n",
    "    # set column names because it changed in the August file\n",
    "    temp.columns=['document number', 'customer no', 'Partner', 'booking date', \n",
    "                  'Item No','KD Item No', 'description', 'QTY', 'landed price',\n",
    "                  'total landed price', 'amount piece', 'total amount', 'Date']\n",
    "    ta_data = ta_data.append(temp, ignore_index = True)  \n",
    " \n",
    "print(ta_data.shape)    "
   ]
  },
  {
   "cell_type": "code",
   "execution_count": 10,
   "metadata": {
    "collapsed": false
   },
   "outputs": [
    {
     "name": "stdout",
     "output_type": "stream",
     "text": [
      "(15501, 13)\n"
     ]
    },
    {
     "data": {
      "text/html": [
       "<div>\n",
       "<table border=\"1\" class=\"dataframe\">\n",
       "  <thead>\n",
       "    <tr style=\"text-align: right;\">\n",
       "      <th></th>\n",
       "      <th>document number</th>\n",
       "      <th>customer no</th>\n",
       "      <th>Partner</th>\n",
       "      <th>booking date</th>\n",
       "      <th>Item No</th>\n",
       "      <th>KD Item No</th>\n",
       "      <th>description</th>\n",
       "      <th>QTY</th>\n",
       "      <th>landed price</th>\n",
       "      <th>total landed price</th>\n",
       "      <th>amount piece</th>\n",
       "      <th>total amount</th>\n",
       "      <th>Date</th>\n",
       "    </tr>\n",
       "  </thead>\n",
       "  <tbody>\n",
       "    <tr>\n",
       "      <th>0</th>\n",
       "      <td>1101773280</td>\n",
       "      <td>1101773280</td>\n",
       "      <td>Tier GmbH</td>\n",
       "      <td>2016-04-01 00:00:00</td>\n",
       "      <td>1101773280</td>\n",
       "      <td>NaN</td>\n",
       "      <td>Facial Massage Roller for Cats</td>\n",
       "      <td>1</td>\n",
       "      <td>NaN</td>\n",
       "      <td>NaN</td>\n",
       "      <td>47.93</td>\n",
       "      <td>47.93</td>\n",
       "      <td>2016/04</td>\n",
       "    </tr>\n",
       "    <tr>\n",
       "      <th>1</th>\n",
       "      <td>1101772220</td>\n",
       "      <td>1101772220</td>\n",
       "      <td>TA Deutschland GmbH</td>\n",
       "      <td>2016-04-01 00:00:00</td>\n",
       "      <td>1101772220</td>\n",
       "      <td>NaN</td>\n",
       "      <td>Facial Massage Roller for Cats</td>\n",
       "      <td>8</td>\n",
       "      <td>NaN</td>\n",
       "      <td>NaN</td>\n",
       "      <td>35.1275</td>\n",
       "      <td>281.02</td>\n",
       "      <td>2016/04</td>\n",
       "    </tr>\n",
       "  </tbody>\n",
       "</table>\n",
       "</div>"
      ],
      "text/plain": [
       "   document number  customer no              Partner         booking date  \\\n",
       "0       1101773280   1101773280            Tier GmbH  2016-04-01 00:00:00   \n",
       "1       1101772220   1101772220  TA Deutschland GmbH  2016-04-01 00:00:00   \n",
       "\n",
       "      Item No KD Item No                     description QTY landed price  \\\n",
       "0  1101773280        NaN  Facial Massage Roller for Cats   1          NaN   \n",
       "1  1101772220        NaN  Facial Massage Roller for Cats   8          NaN   \n",
       "\n",
       "  total landed price amount piece total amount     Date  \n",
       "0                NaN        47.93        47.93  2016/04  \n",
       "1                NaN      35.1275       281.02  2016/04  "
      ]
     },
     "execution_count": 10,
     "metadata": {},
     "output_type": "execute_result"
    }
   ],
   "source": [
    "# Remove header cells and blank lines\n",
    "temp =  ta_data.loc[ta_data['document number'].notnull() & ~ta_data['document number'].isin(['document number'])].copy()\n",
    "temp.dropna(how ='all', inplace=True)\n",
    "ta_data2 = temp[temp['Partner'].notnull()]\n",
    "\n",
    "# Change these to int. They are int in the 201708 file\n",
    "ta_data2['document number']=pd.to_numeric(ta_data2['document number'], errors='coerce')\n",
    "ta_data2['customer no']=pd.to_numeric(ta_data2['document number'], errors='coerce')\n",
    "ta_data2['Item No']=pd.to_numeric(ta_data2['document number'], errors='coerce')\n",
    "\n",
    "# drop dups from after 2017/05 data only\n",
    "temp1 = ta_data2[ta_data2.Date<'2017/05'].copy()\n",
    "temp2 = ta_data2[ta_data2.Date>='2017/05'].copy()\n",
    "temp2.drop_duplicates(inplace = True)\n",
    "ta_data2 = pd.concat([temp1, temp2])\n",
    "\n",
    "print(ta_data2.shape)\n",
    "ta_data2.head(2)"
   ]
  },
  {
   "cell_type": "code",
   "execution_count": 11,
   "metadata": {
    "collapsed": true
   },
   "outputs": [],
   "source": [
    "def assign_partner2(st):\n",
    "    if 'TA CESKA' in st.upper():\n",
    "        return 'TA Ceska'\n",
    "    elif 'TA DEUTSCHLAND GMBH' in st.upper():\n",
    "        return 'TA Deutschland GmbH'\n",
    "    elif 'TA ÖSTERREICH GMBH' in st.upper():\n",
    "        return 'TA Österreich GmbH'\n",
    "    elif 'TA SCHWEIZ AG' in st.upper():\n",
    "        return 'TA Schweiz AG'\n",
    "    else:\n",
    "        return 'Others'"
   ]
  },
  {
   "cell_type": "code",
   "execution_count": 12,
   "metadata": {
    "collapsed": false
   },
   "outputs": [],
   "source": [
    "# Add the 'Partner2' column\n",
    "ta_data2['Partner2'] = ta_data2['Partner'].apply(lambda x: assign_partner2(x))\n",
    "ta_data2['Group'] ='TA'\n",
    "ta_data2['Currency']='Euro'"
   ]
  },
  {
   "cell_type": "code",
   "execution_count": 13,
   "metadata": {
    "collapsed": false
   },
   "outputs": [
    {
     "data": {
      "text/html": [
       "<div>\n",
       "<table border=\"1\" class=\"dataframe\">\n",
       "  <thead>\n",
       "    <tr style=\"text-align: right;\">\n",
       "      <th></th>\n",
       "      <th>Month</th>\n",
       "      <th>customer no</th>\n",
       "      <th>Partner</th>\n",
       "      <th>Partner2</th>\n",
       "      <th>Group</th>\n",
       "      <th>description</th>\n",
       "      <th>QTY</th>\n",
       "      <th>total amount</th>\n",
       "      <th>Currency</th>\n",
       "    </tr>\n",
       "  </thead>\n",
       "  <tbody>\n",
       "    <tr>\n",
       "      <th>0</th>\n",
       "      <td>201604</td>\n",
       "      <td>1101773280</td>\n",
       "      <td>Tier GmbH</td>\n",
       "      <td>Others</td>\n",
       "      <td>TA</td>\n",
       "      <td>Facial Massage Roller for Cats</td>\n",
       "      <td>1.0</td>\n",
       "      <td>47.93</td>\n",
       "      <td>Euro</td>\n",
       "    </tr>\n",
       "    <tr>\n",
       "      <th>1</th>\n",
       "      <td>201604</td>\n",
       "      <td>1101772220</td>\n",
       "      <td>TA Deutschland GmbH</td>\n",
       "      <td>TA Deutschland GmbH</td>\n",
       "      <td>TA</td>\n",
       "      <td>Facial Massage Roller for Cats</td>\n",
       "      <td>8.0</td>\n",
       "      <td>281.02</td>\n",
       "      <td>Euro</td>\n",
       "    </tr>\n",
       "  </tbody>\n",
       "</table>\n",
       "</div>"
      ],
      "text/plain": [
       "    Month  customer no              Partner             Partner2 Group  \\\n",
       "0  201604   1101773280            Tier GmbH               Others    TA   \n",
       "1  201604   1101772220  TA Deutschland GmbH  TA Deutschland GmbH    TA   \n",
       "\n",
       "                      description  QTY  total amount Currency  \n",
       "0  Facial Massage Roller for Cats  1.0         47.93     Euro  \n",
       "1  Facial Massage Roller for Cats  8.0        281.02     Euro  "
      ]
     },
     "execution_count": 13,
     "metadata": {},
     "output_type": "execute_result"
    }
   ],
   "source": [
    "# Prepare to match columns with KDC data\n",
    "\n",
    "# Reorder columns\n",
    "col_ta = ['Date', 'customer no', 'Partner', 'Partner2', 'Group','description', 'QTY', 'total amount', 'Currency']\n",
    "ta_data2 = ta_data2[col_ta]\n",
    "\n",
    "# Remove '/' from the Date column\n",
    "ta_data2['Date'] = ta_data2['Date'].str.replace('/', '')\n",
    "\n",
    " # Rename the 'Date' column to 'Month' \n",
    "ta_data2.columns=['Month', 'customer no', 'Partner', 'Partner2', 'Group','description', 'QTY', 'total amount', 'Currency']\n",
    "\n",
    "# Change dtype of columns to match KDC_data\n",
    "ta_data2['Month'] = ta_data2['Month'].astype(int)\n",
    "ta_data2['customer no'] = ta_data2['customer no'].astype(np.int64)\n",
    "ta_data2['QTY'] = ta_data2['QTY'].astype(float)\n",
    "ta_data2['total amount'] = ta_data2['total amount'].astype(float)\n",
    "\n",
    "ta_data2.head(2)"
   ]
  },
  {
   "cell_type": "markdown",
   "metadata": {},
   "source": [
    "## TA Exange & Margin Rate   為替とマージン率"
   ]
  },
  {
   "cell_type": "code",
   "execution_count": 14,
   "metadata": {
    "collapsed": false
   },
   "outputs": [],
   "source": [
    "# Read in Fx Rate data\n",
    "temp_fx_thisFY = pd.read_excel(filePath + ta_ex_thisFY, sheetname='Exchange Rate (Actual)', skiprows=3)\n",
    "temp_fx_lastFY = pd.read_excel(filePath + ta_ex_lastFY, sheetname='Exchange Rate (Actual)', skiprows=3) #index_col='Currency(from)'\n",
    "margin = pd.read_excel(filePath + ta_margin, sheetname='Sheet1', skiprows=1)  #"
   ]
  },
  {
   "cell_type": "code",
   "execution_count": 15,
   "metadata": {
    "collapsed": false
   },
   "outputs": [
    {
     "data": {
      "text/html": [
       "<div>\n",
       "<table border=\"1\" class=\"dataframe\">\n",
       "  <thead>\n",
       "    <tr style=\"text-align: right;\">\n",
       "      <th></th>\n",
       "      <th>Currency(from)</th>\n",
       "      <th>Currency(to)</th>\n",
       "      <th>201604</th>\n",
       "      <th>201605</th>\n",
       "      <th>201606</th>\n",
       "      <th>201607</th>\n",
       "      <th>201608</th>\n",
       "      <th>201609</th>\n",
       "      <th>201610</th>\n",
       "      <th>201611</th>\n",
       "      <th>201612</th>\n",
       "      <th>201701</th>\n",
       "      <th>201702</th>\n",
       "      <th>201703</th>\n",
       "      <th>201704</th>\n",
       "      <th>201705</th>\n",
       "      <th>201706</th>\n",
       "      <th>201707</th>\n",
       "      <th>201708</th>\n",
       "    </tr>\n",
       "  </thead>\n",
       "  <tbody>\n",
       "    <tr>\n",
       "      <th>0</th>\n",
       "      <td>AUD</td>\n",
       "      <td>AUD</td>\n",
       "      <td>1.00</td>\n",
       "      <td>1.00</td>\n",
       "      <td>1.0</td>\n",
       "      <td>1.00</td>\n",
       "      <td>1.00</td>\n",
       "      <td>1.00</td>\n",
       "      <td>1.00</td>\n",
       "      <td>1.00</td>\n",
       "      <td>1.00</td>\n",
       "      <td>1.00</td>\n",
       "      <td>1.00</td>\n",
       "      <td>1.00</td>\n",
       "      <td>1.00</td>\n",
       "      <td>1.00</td>\n",
       "      <td>1.00</td>\n",
       "      <td>1.00</td>\n",
       "      <td>1.00</td>\n",
       "    </tr>\n",
       "    <tr>\n",
       "      <th>1</th>\n",
       "      <td>AUD</td>\n",
       "      <td>JPY</td>\n",
       "      <td>84.27</td>\n",
       "      <td>79.58</td>\n",
       "      <td>78.2</td>\n",
       "      <td>78.16</td>\n",
       "      <td>77.22</td>\n",
       "      <td>77.38</td>\n",
       "      <td>79.11</td>\n",
       "      <td>81.58</td>\n",
       "      <td>85.22</td>\n",
       "      <td>85.75</td>\n",
       "      <td>86.62</td>\n",
       "      <td>86.12</td>\n",
       "      <td>83.08</td>\n",
       "      <td>83.44</td>\n",
       "      <td>83.74</td>\n",
       "      <td>87.53</td>\n",
       "      <td>87.06</td>\n",
       "    </tr>\n",
       "  </tbody>\n",
       "</table>\n",
       "</div>"
      ],
      "text/plain": [
       "  Currency(from) Currency(to)  201604  201605  201606  201607  201608  201609  \\\n",
       "0            AUD          AUD    1.00    1.00     1.0    1.00    1.00    1.00   \n",
       "1            AUD          JPY   84.27   79.58    78.2   78.16   77.22   77.38   \n",
       "\n",
       "   201610  201611  201612  201701  201702  201703  201704  201705  201706  \\\n",
       "0    1.00    1.00    1.00    1.00    1.00    1.00    1.00    1.00    1.00   \n",
       "1   79.11   81.58   85.22   85.75   86.62   86.12   83.08   83.44   83.74   \n",
       "\n",
       "   201707  201708  \n",
       "0    1.00    1.00  \n",
       "1   87.53   87.06  "
      ]
     },
     "execution_count": 15,
     "metadata": {},
     "output_type": "execute_result"
    }
   ],
   "source": [
    "# Combine last year and this year's FX rate\n",
    "fx_thisFY=temp_fx_thisFY.iloc[:, 3:]\n",
    "fx_lastFY=temp_fx_lastFY.iloc[:, 3:]\n",
    "\n",
    "fx_thisFY.set_index(['Currency(from)', 'Currency(to)'], inplace=True)\n",
    "fx_lastFY.set_index(['Currency(from)', 'Currency(to)'], inplace=True)\n",
    "\n",
    "fx_temp = pd.concat([fx_lastFY, fx_thisFY], axis=1).reset_index()\n",
    "fx_temp.head(2)"
   ]
  },
  {
   "cell_type": "code",
   "execution_count": 16,
   "metadata": {
    "collapsed": false
   },
   "outputs": [
    {
     "data": {
      "text/html": [
       "<div>\n",
       "<table border=\"1\" class=\"dataframe\">\n",
       "  <thead>\n",
       "    <tr style=\"text-align: right;\">\n",
       "      <th></th>\n",
       "      <th>Month</th>\n",
       "      <th>Fx Rate</th>\n",
       "      <th>Currency</th>\n",
       "      <th>key</th>\n",
       "    </tr>\n",
       "  </thead>\n",
       "  <tbody>\n",
       "    <tr>\n",
       "      <th>12</th>\n",
       "      <td>201704</td>\n",
       "      <td>117.95</td>\n",
       "      <td>EUR</td>\n",
       "      <td>1</td>\n",
       "    </tr>\n",
       "    <tr>\n",
       "      <th>13</th>\n",
       "      <td>201705</td>\n",
       "      <td>124.10</td>\n",
       "      <td>EUR</td>\n",
       "      <td>1</td>\n",
       "    </tr>\n",
       "    <tr>\n",
       "      <th>14</th>\n",
       "      <td>201706</td>\n",
       "      <td>124.52</td>\n",
       "      <td>EUR</td>\n",
       "      <td>1</td>\n",
       "    </tr>\n",
       "    <tr>\n",
       "      <th>15</th>\n",
       "      <td>201707</td>\n",
       "      <td>129.42</td>\n",
       "      <td>EUR</td>\n",
       "      <td>1</td>\n",
       "    </tr>\n",
       "    <tr>\n",
       "      <th>16</th>\n",
       "      <td>201708</td>\n",
       "      <td>129.88</td>\n",
       "      <td>EUR</td>\n",
       "      <td>1</td>\n",
       "    </tr>\n",
       "  </tbody>\n",
       "</table>\n",
       "</div>"
      ],
      "text/plain": [
       "     Month  Fx Rate Currency  key\n",
       "12  201704   117.95      EUR    1\n",
       "13  201705   124.10      EUR    1\n",
       "14  201706   124.52      EUR    1\n",
       "15  201707   129.42      EUR    1\n",
       "16  201708   129.88      EUR    1"
      ]
     },
     "execution_count": 16,
     "metadata": {},
     "output_type": "execute_result"
    }
   ],
   "source": [
    "# Exchange Rate - change the format\n",
    "fx_rate = fx_temp[(fx_temp['Currency(from)']=='EUR') & (fx_temp['Currency(to)']=='JPY')].iloc[:, 2:].T\n",
    "fx_rate.columns=['Fx Rate']\n",
    "fx_rate['Currency']='EUR'\n",
    "fx_rate['key']=1\n",
    "fx_rate.reset_index(inplace=True)\n",
    "fx_rate.columns=['Month', 'Fx Rate', 'Currency', 'key']\n",
    "fx_rate['Month']=fx_rate['Month'].astype(int)\n",
    "\n",
    "fx_rate.drop_duplicates(inplace=True)\n",
    "\n",
    "fx_rate.tail()"
   ]
  },
  {
   "cell_type": "code",
   "execution_count": 17,
   "metadata": {
    "collapsed": false
   },
   "outputs": [
    {
     "data": {
      "text/html": [
       "<div>\n",
       "<table border=\"1\" class=\"dataframe\">\n",
       "  <thead>\n",
       "    <tr style=\"text-align: right;\">\n",
       "      <th></th>\n",
       "      <th>Customer Name</th>\n",
       "      <th>マージン率/%</th>\n",
       "      <th>Partner2</th>\n",
       "      <th>key</th>\n",
       "    </tr>\n",
       "  </thead>\n",
       "  <tbody>\n",
       "    <tr>\n",
       "      <th>0</th>\n",
       "      <td>その他</td>\n",
       "      <td>0.0</td>\n",
       "      <td>Others</td>\n",
       "      <td>1</td>\n",
       "    </tr>\n",
       "    <tr>\n",
       "      <th>1</th>\n",
       "      <td>TA Ceska</td>\n",
       "      <td>24.8</td>\n",
       "      <td>TA Ceska</td>\n",
       "      <td>1</td>\n",
       "    </tr>\n",
       "    <tr>\n",
       "      <th>2</th>\n",
       "      <td>TA Deutschland GmbH</td>\n",
       "      <td>27.6</td>\n",
       "      <td>TA Deutschland GmbH</td>\n",
       "      <td>1</td>\n",
       "    </tr>\n",
       "    <tr>\n",
       "      <th>3</th>\n",
       "      <td>TA Österreich GmbH</td>\n",
       "      <td>39.9</td>\n",
       "      <td>TA Österreich GmbH</td>\n",
       "      <td>1</td>\n",
       "    </tr>\n",
       "    <tr>\n",
       "      <th>4</th>\n",
       "      <td>TA Schweiz AG</td>\n",
       "      <td>45.8</td>\n",
       "      <td>TA Schweiz AG</td>\n",
       "      <td>1</td>\n",
       "    </tr>\n",
       "  </tbody>\n",
       "</table>\n",
       "</div>"
      ],
      "text/plain": [
       "         Customer Name  マージン率/%             Partner2  key\n",
       "0                  その他      0.0               Others    1\n",
       "1             TA Ceska     24.8             TA Ceska    1\n",
       "2  TA Deutschland GmbH     27.6  TA Deutschland GmbH    1\n",
       "3   TA Österreich GmbH     39.9   TA Österreich GmbH    1\n",
       "4        TA Schweiz AG     45.8        TA Schweiz AG    1"
      ]
     },
     "execution_count": 17,
     "metadata": {},
     "output_type": "execute_result"
    }
   ],
   "source": [
    "# Read in margin rate and reformat\n",
    "# Margin Rate\n",
    "margin['Partner2'] = margin['Customer Name'].str.replace('その他', 'Others')\n",
    "margin.drop_duplicates(inplace=True)\n",
    "\n",
    "margin['key']=1\n",
    "margin.head()"
   ]
  },
  {
   "cell_type": "code",
   "execution_count": 18,
   "metadata": {
    "collapsed": false
   },
   "outputs": [
    {
     "data": {
      "text/html": [
       "<div>\n",
       "<table border=\"1\" class=\"dataframe\">\n",
       "  <thead>\n",
       "    <tr style=\"text-align: right;\">\n",
       "      <th></th>\n",
       "      <th>Month</th>\n",
       "      <th>Conversion Rate</th>\n",
       "      <th>Partner2</th>\n",
       "    </tr>\n",
       "  </thead>\n",
       "  <tbody>\n",
       "    <tr>\n",
       "      <th>80</th>\n",
       "      <td>201708</td>\n",
       "      <td>129.880000</td>\n",
       "      <td>Others</td>\n",
       "    </tr>\n",
       "    <tr>\n",
       "      <th>81</th>\n",
       "      <td>201708</td>\n",
       "      <td>172.712766</td>\n",
       "      <td>TA Ceska</td>\n",
       "    </tr>\n",
       "    <tr>\n",
       "      <th>82</th>\n",
       "      <td>201708</td>\n",
       "      <td>179.392265</td>\n",
       "      <td>TA Deutschland GmbH</td>\n",
       "    </tr>\n",
       "    <tr>\n",
       "      <th>83</th>\n",
       "      <td>201708</td>\n",
       "      <td>216.106489</td>\n",
       "      <td>TA Österreich GmbH</td>\n",
       "    </tr>\n",
       "    <tr>\n",
       "      <th>84</th>\n",
       "      <td>201708</td>\n",
       "      <td>239.630996</td>\n",
       "      <td>TA Schweiz AG</td>\n",
       "    </tr>\n",
       "  </tbody>\n",
       "</table>\n",
       "</div>"
      ],
      "text/plain": [
       "     Month  Conversion Rate             Partner2\n",
       "80  201708       129.880000               Others\n",
       "81  201708       172.712766             TA Ceska\n",
       "82  201708       179.392265  TA Deutschland GmbH\n",
       "83  201708       216.106489   TA Österreich GmbH\n",
       "84  201708       239.630996        TA Schweiz AG"
      ]
     },
     "execution_count": 18,
     "metadata": {},
     "output_type": "execute_result"
    }
   ],
   "source": [
    "# Calculate conversion rate =FX/(1-margin rate)\n",
    "rate = pd.merge(fx_rate, margin, on ='key')\n",
    "\n",
    "rate = rate[['Month', 'Partner2', 'Currency', 'Fx Rate', 'マージン率/%']]\n",
    "rate['Conversion Rate'] = rate['Fx Rate'] /(1-rate['マージン率/%']/100) \n",
    "rate['Month'] = rate['Month'].astype(int)\n",
    "\n",
    "# Conversion rate per company\n",
    "rate2 = rate[['Month', 'Conversion Rate', 'Partner2']]\n",
    "rate2.tail(5)"
   ]
  },
  {
   "cell_type": "code",
   "execution_count": 19,
   "metadata": {
    "collapsed": false
   },
   "outputs": [],
   "source": [
    "# Output conversion rate\n",
    "\n",
    "d=str(report_date.date()).replace('-', '')\n",
    "\n",
    "output_file = outputPath + r'Europe_conversion_rate_{0}.xlsx'.format(d)\n",
    "rate.to_excel(output_file, index=False)"
   ]
  },
  {
   "cell_type": "markdown",
   "metadata": {},
   "source": [
    "## Apply Conversion Rate to TA data  変換レートをTA販売実績に適用"
   ]
  },
  {
   "cell_type": "code",
   "execution_count": 20,
   "metadata": {
    "collapsed": false
   },
   "outputs": [
    {
     "data": {
      "text/html": [
       "<div>\n",
       "<table border=\"1\" class=\"dataframe\">\n",
       "  <thead>\n",
       "    <tr style=\"text-align: right;\">\n",
       "      <th></th>\n",
       "      <th>Month</th>\n",
       "      <th>customer no</th>\n",
       "      <th>Partner</th>\n",
       "      <th>Partner2</th>\n",
       "      <th>Group</th>\n",
       "      <th>description</th>\n",
       "      <th>QTY</th>\n",
       "      <th>total amount</th>\n",
       "      <th>Currency</th>\n",
       "    </tr>\n",
       "  </thead>\n",
       "  <tbody>\n",
       "    <tr>\n",
       "      <th>0</th>\n",
       "      <td>201604</td>\n",
       "      <td>1101773280</td>\n",
       "      <td>Tier GmbH</td>\n",
       "      <td>Others</td>\n",
       "      <td>TA</td>\n",
       "      <td>Facial Massage Roller for Cats</td>\n",
       "      <td>1.0</td>\n",
       "      <td>47.93</td>\n",
       "      <td>Euro</td>\n",
       "    </tr>\n",
       "    <tr>\n",
       "      <th>1</th>\n",
       "      <td>201604</td>\n",
       "      <td>1101772220</td>\n",
       "      <td>TA Deutschland GmbH</td>\n",
       "      <td>TA Deutschland GmbH</td>\n",
       "      <td>TA</td>\n",
       "      <td>Facial Massage Roller for Cats</td>\n",
       "      <td>8.0</td>\n",
       "      <td>281.02</td>\n",
       "      <td>Euro</td>\n",
       "    </tr>\n",
       "  </tbody>\n",
       "</table>\n",
       "</div>"
      ],
      "text/plain": [
       "    Month  customer no              Partner             Partner2 Group  \\\n",
       "0  201604   1101773280            Tier GmbH               Others    TA   \n",
       "1  201604   1101772220  TA Deutschland GmbH  TA Deutschland GmbH    TA   \n",
       "\n",
       "                      description  QTY  total amount Currency  \n",
       "0  Facial Massage Roller for Cats  1.0         47.93     Euro  \n",
       "1  Facial Massage Roller for Cats  8.0        281.02     Euro  "
      ]
     },
     "execution_count": 20,
     "metadata": {},
     "output_type": "execute_result"
    }
   ],
   "source": [
    "ta_data2.head(2)"
   ]
  },
  {
   "cell_type": "code",
   "execution_count": 21,
   "metadata": {
    "collapsed": false
   },
   "outputs": [
    {
     "data": {
      "text/html": [
       "<div>\n",
       "<table border=\"1\" class=\"dataframe\">\n",
       "  <thead>\n",
       "    <tr style=\"text-align: right;\">\n",
       "      <th></th>\n",
       "      <th>Month</th>\n",
       "      <th>customer no</th>\n",
       "      <th>Partner</th>\n",
       "      <th>Partner2</th>\n",
       "      <th>Group</th>\n",
       "      <th>description</th>\n",
       "      <th>QTY</th>\n",
       "      <th>total amount</th>\n",
       "      <th>Currency</th>\n",
       "      <th>Conversion Rate</th>\n",
       "    </tr>\n",
       "  </thead>\n",
       "  <tbody>\n",
       "    <tr>\n",
       "      <th>0</th>\n",
       "      <td>201604</td>\n",
       "      <td>1101773280</td>\n",
       "      <td>Tier GmbH</td>\n",
       "      <td>Others</td>\n",
       "      <td>TA</td>\n",
       "      <td>Facial Massage Roller for Cats</td>\n",
       "      <td>1.0</td>\n",
       "      <td>47.93</td>\n",
       "      <td>Euro</td>\n",
       "      <td>124.620000</td>\n",
       "    </tr>\n",
       "    <tr>\n",
       "      <th>1</th>\n",
       "      <td>201604</td>\n",
       "      <td>1101772220</td>\n",
       "      <td>TA Deutschland GmbH</td>\n",
       "      <td>TA Deutschland GmbH</td>\n",
       "      <td>TA</td>\n",
       "      <td>Facial Massage Roller for Cats</td>\n",
       "      <td>8.0</td>\n",
       "      <td>281.02</td>\n",
       "      <td>Euro</td>\n",
       "      <td>172.127072</td>\n",
       "    </tr>\n",
       "  </tbody>\n",
       "</table>\n",
       "</div>"
      ],
      "text/plain": [
       "    Month  customer no              Partner             Partner2 Group  \\\n",
       "0  201604   1101773280            Tier GmbH               Others    TA   \n",
       "1  201604   1101772220  TA Deutschland GmbH  TA Deutschland GmbH    TA   \n",
       "\n",
       "                      description  QTY  total amount Currency  Conversion Rate  \n",
       "0  Facial Massage Roller for Cats  1.0         47.93     Euro       124.620000  \n",
       "1  Facial Massage Roller for Cats  8.0        281.02     Euro       172.127072  "
      ]
     },
     "execution_count": 21,
     "metadata": {},
     "output_type": "execute_result"
    }
   ],
   "source": [
    "# Join TA data and exhange rate\n",
    "ta_data3 = pd.merge(ta_data2, rate2, how='left', on =['Partner2', 'Month'])\n",
    "ta_data3.head(2)"
   ]
  },
  {
   "cell_type": "code",
   "execution_count": 22,
   "metadata": {
    "collapsed": false
   },
   "outputs": [],
   "source": [
    "# Convert to Japanese Yen\n",
    "ta_data3['Sales JPY'] = round(ta_data3['total amount']* ta_data3['Conversion Rate'], 3)"
   ]
  },
  {
   "cell_type": "code",
   "execution_count": 23,
   "metadata": {
    "collapsed": false
   },
   "outputs": [
    {
     "data": {
      "text/plain": [
       "array([], dtype=object)"
      ]
     },
     "execution_count": 23,
     "metadata": {},
     "output_type": "execute_result"
    }
   ],
   "source": [
    "# Check for records with Null Ex Rate\n",
    "ta_data3[ta_data3['Conversion Rate'].isnull()]['Partner2'].unique()"
   ]
  },
  {
   "cell_type": "code",
   "execution_count": 24,
   "metadata": {
    "collapsed": false
   },
   "outputs": [],
   "source": [
    "# Change TA data column name to match KDC column names\n",
    "col_list = kdc_data2.columns.tolist()\n",
    "ta_data3.columns = col_list\n",
    "\n",
    "# Set '3rd Party or Inter'=3 for TA\n",
    "ta_data3['3rd Party or Inter'] = 3"
   ]
  },
  {
   "cell_type": "code",
   "execution_count": 25,
   "metadata": {
    "collapsed": false
   },
   "outputs": [
    {
     "name": "stdout",
     "output_type": "stream",
     "text": [
      "Number of record KDC (71664, 11)\n",
      "Number of recor TA (15501, 11)\n",
      "Number of record KDC + TA: 87165\n"
     ]
    }
   ],
   "source": [
    "# Check number of records\n",
    "print('Number of record KDC', kdc_data2.shape)\n",
    "print('Number of recor TA', ta_data3.shape)\n",
    "print('Number of record KDC + TA:', len(kdc_data2) + len(ta_data3))"
   ]
  },
  {
   "cell_type": "markdown",
   "metadata": {},
   "source": [
    "## Merge KDC and TA data"
   ]
  },
  {
   "cell_type": "code",
   "execution_count": 26,
   "metadata": {
    "collapsed": false
   },
   "outputs": [
    {
     "name": "stdout",
     "output_type": "stream",
     "text": [
      "Before:  (87165, 11)\n",
      "After : (86635, 12)\n"
     ]
    }
   ],
   "source": [
    "# Add TA data to KDC data\n",
    "data_merged = pd.concat([kdc_data2 ,ta_data3])\n",
    "\n",
    "print('Before: ', data_merged.shape)\n",
    "\n",
    "# Add a Period column\n",
    "data_merged['Year-Month'] = pd.to_datetime(data_merged['Year / Month'].astype(str)\n",
    "                            .apply(lambda x: x[:4]+'-'+x[4:7])).dt.to_period('m')\n",
    "\n",
    "# Delete records after report_date and limit to 3rd party only\n",
    "data_merged = data_merged[data_merged['Year-Month'] <= report_date.to_period('m')]\n",
    "data_merged = data_merged[(data_merged['3rd Party or Inter']==3)]\n",
    "print('After :', data_merged.shape)"
   ]
  },
  {
   "cell_type": "code",
   "execution_count": 27,
   "metadata": {
    "collapsed": false
   },
   "outputs": [
    {
     "name": "stdout",
     "output_type": "stream",
     "text": [
      "Company Names:  [' Pow Japan' ' Pow Europe' ' Pow America' ' Pow Oceania' ' Pow Asia'\n",
      " ' Pow Canada' 'TA']\n"
     ]
    }
   ],
   "source": [
    "# Add display company name (clean co name)\n",
    "# Remove symbols, TA*販社 -> TA\n",
    "data_merged['Display Co Name'] = data_merged['Company Group Name']\n",
    "data_merged['Display Co Name'] = data_merged['Display Co Name'].map(lambda x: re.sub('[0-1][0-9].', '',  x))\n",
    "data_merged['Display Co Name'] = data_merged['Display Co Name'].map(lambda x: re.sub('OCEANIA-G', 'KDAU-G',  x))\n",
    "data_merged['Display Co Name'] = data_merged['Display Co Name'].map(lambda x: re.sub('TA \\D*', 'TA', x))\n",
    "data_merged['Display Co Name'] = data_merged['Display Co Name'].map(lambda x: re.sub('Others', 'TA',  x))\n",
    "data_merged['Display Co Name'] = data_merged['Display Co Name'].map(lambda x: re.sub('-G', '',  x))\n",
    "\n",
    "print('Company Names: ',  data_merged['Display Co Name'].unique())"
   ]
  },
  {
   "cell_type": "code",
   "execution_count": 28,
   "metadata": {
    "collapsed": true
   },
   "outputs": [],
   "source": [
    "# This is dummy. Removed a function for gitHub. Just copy a column\n",
    "data_merged['Extracted Name'] = data_merged['Material Name']"
   ]
  },
  {
   "cell_type": "code",
   "execution_count": 29,
   "metadata": {
    "collapsed": true
   },
   "outputs": [],
   "source": [
    "# Group some products together for business reporting\n",
    "mapping = [ ('Wobble Wag Giggle Ball', ['Wobble Wag Giggle Ball', 'Pet Zone IQ Treat Ball']),\n",
    "            ('Pet Bed & Comfort', ['Sneaker Pet Bed','Catit Design Senses Massage Center', 'Suck UK Laptop Cat Scratching Pad', 'K&H Thermo Cat Windowsill Seat', 'KritterWorld Microplush Pet Blanket']),\n",
    "            ('Holiday & Subscription Box', ['PupBox Holiday Box', 'Barkbox Subscription Box', 'MeowBox Monthly Subscription Box']),\n",
    "            ('Furbo Dog Camera', ['Furbo Dog Camera', 'Petcube Camera'])\n",
    "           ] \n",
    "\n",
    "d = dict()\n",
    "for (value, keys) in mapping:\n",
    "    for key in keys:\n",
    "        d[key] = value\n",
    "        \n",
    "data_merged['対象商材'] = data_merged['Extracted Name'].apply(lambda x: d[x] if x in d else x)"
   ]
  },
  {
   "cell_type": "code",
   "execution_count": 30,
   "metadata": {
    "collapsed": false
   },
   "outputs": [
    {
     "data": {
      "text/html": [
       "<div>\n",
       "<table border=\"1\" class=\"dataframe\">\n",
       "  <thead>\n",
       "    <tr style=\"text-align: right;\">\n",
       "      <th></th>\n",
       "      <th>Year-Month</th>\n",
       "      <th>Company Code</th>\n",
       "      <th>Company Name</th>\n",
       "      <th>Company Group Name</th>\n",
       "      <th>Display Co Name</th>\n",
       "      <th>3rd Party or Inter</th>\n",
       "      <th>Material Name</th>\n",
       "      <th>Extracted Name</th>\n",
       "      <th>対象商材</th>\n",
       "      <th>Sales Quantity</th>\n",
       "      <th>Actual Sales</th>\n",
       "      <th>Plan Currency</th>\n",
       "      <th>ExRate</th>\n",
       "      <th>Actual Sales (Ex)</th>\n",
       "    </tr>\n",
       "  </thead>\n",
       "  <tbody>\n",
       "    <tr>\n",
       "      <th>52363</th>\n",
       "      <td>2016-04</td>\n",
       "      <td>1201</td>\n",
       "      <td>Pets Unleashed</td>\n",
       "      <td>04. Pow America</td>\n",
       "      <td>Pow America</td>\n",
       "      <td>3</td>\n",
       "      <td>Catit Senses 2.0 Circuit</td>\n",
       "      <td>Catit Senses 2.0 Circuit</td>\n",
       "      <td>Catit Senses 2.0 Circuit</td>\n",
       "      <td>4.0</td>\n",
       "      <td>540.0</td>\n",
       "      <td>USD</td>\n",
       "      <td>109.93</td>\n",
       "      <td>59362.2</td>\n",
       "    </tr>\n",
       "    <tr>\n",
       "      <th>58373</th>\n",
       "      <td>2016-04</td>\n",
       "      <td>1202</td>\n",
       "      <td>Pets Unlimited</td>\n",
       "      <td>04. Pow America</td>\n",
       "      <td>Pow America</td>\n",
       "      <td>3</td>\n",
       "      <td>Catit Senses 2.0 Circuit</td>\n",
       "      <td>Catit Senses 2.0 Circuit</td>\n",
       "      <td>Catit Senses 2.0 Circuit</td>\n",
       "      <td>2.0</td>\n",
       "      <td>0.0</td>\n",
       "      <td>CAD</td>\n",
       "      <td>NaN</td>\n",
       "      <td>0.0</td>\n",
       "    </tr>\n",
       "  </tbody>\n",
       "</table>\n",
       "</div>"
      ],
      "text/plain": [
       "      Year-Month  Company Code    Company Name Company Group Name  \\\n",
       "52363    2016-04          1201  Pets Unleashed    04. Pow America   \n",
       "58373    2016-04          1202  Pets Unlimited    04. Pow America   \n",
       "\n",
       "      Display Co Name  3rd Party or Inter             Material Name  \\\n",
       "52363     Pow America                   3  Catit Senses 2.0 Circuit   \n",
       "58373     Pow America                   3  Catit Senses 2.0 Circuit   \n",
       "\n",
       "                 Extracted Name                      対象商材  Sales Quantity  \\\n",
       "52363  Catit Senses 2.0 Circuit  Catit Senses 2.0 Circuit             4.0   \n",
       "58373  Catit Senses 2.0 Circuit  Catit Senses 2.0 Circuit             2.0   \n",
       "\n",
       "       Actual Sales Plan Currency  ExRate  Actual Sales (Ex)  \n",
       "52363         540.0           USD  109.93            59362.2  \n",
       "58373           0.0           CAD     NaN                0.0  "
      ]
     },
     "execution_count": 30,
     "metadata": {},
     "output_type": "execute_result"
    }
   ],
   "source": [
    "# Limit to reporting items \n",
    "report_items = data_merged[data_merged['対象商材'].notnull()]['対象商材'].unique().tolist()\n",
    "#report_items.remove('Non target products')\n",
    "report_items=sorted(report_items)\n",
    "\n",
    "# Limit to requested number of years \n",
    "report_start_yr =current_FY_start - relativedelta(years=num_yr_to_aggregate)\n",
    "\n",
    "standardize_sales_data = data_merged[(data_merged['対象商材'].isin(report_items)) \n",
    "                                     & (data_merged['Year-Month']>=report_start_yr.to_period('m'))].copy() \n",
    "\n",
    "\n",
    "# Sort\n",
    "standardize_sales_data.sort_values(by=['対象商材', 'Extracted Name', 'Year-Month', 'Display Co Name'], inplace=True)\n",
    "\n",
    "\n",
    "standardize_sales_data=standardize_sales_data[['Year-Month', 'Company Code', 'Company Name', 'Company Group Name', \n",
    "                                               'Display Co Name','3rd Party or Inter', \n",
    "                                               'Material Name', 'Extracted Name', '対象商材', 'Sales Quantity', \n",
    "                                               'Actual Sales', 'Plan Currency', 'ExRate', 'Actual Sales (Ex)']]\n",
    "\n",
    "standardize_sales_data.head(2)"
   ]
  },
  {
   "cell_type": "markdown",
   "metadata": {},
   "source": [
    "## Output reconciled sales data for BI tools"
   ]
  },
  {
   "cell_type": "code",
   "execution_count": 31,
   "metadata": {
    "collapsed": false
   },
   "outputs": [],
   "source": [
    "# Output non aggregated data for BI tools\n",
    "d=str(report_date.date()).replace('-', '')\n",
    "output_file = outputPath + 'Non_Agg_Results_for_BI_tool_{0}.xlsx'.format(d)\n",
    "standardize_sales_data.to_excel(output_file, sheet_name='Sales Data', index=False)"
   ]
  },
  {
   "cell_type": "markdown",
   "metadata": {},
   "source": [
    "## Write aggregated data to output (集計結果の出力)"
   ]
  },
  {
   "cell_type": "code",
   "execution_count": 32,
   "metadata": {
    "collapsed": false
   },
   "outputs": [
    {
     "data": {
      "text/html": [
       "<div>\n",
       "<table border=\"1\" class=\"dataframe\">\n",
       "  <thead>\n",
       "    <tr style=\"text-align: right;\">\n",
       "      <th></th>\n",
       "      <th></th>\n",
       "      <th></th>\n",
       "      <th></th>\n",
       "      <th>Sales Quantity</th>\n",
       "      <th>Actual Sales (Ex)</th>\n",
       "      <th>Actual Sales (Ex) in 1000</th>\n",
       "    </tr>\n",
       "    <tr>\n",
       "      <th>対象商材</th>\n",
       "      <th>3rd Party or Inter</th>\n",
       "      <th>Year-Month</th>\n",
       "      <th>Display Co Name</th>\n",
       "      <th></th>\n",
       "      <th></th>\n",
       "      <th></th>\n",
       "    </tr>\n",
       "  </thead>\n",
       "  <tbody>\n",
       "    <tr>\n",
       "      <th rowspan=\"5\" valign=\"top\">Catit Senses 2.0 Circuit</th>\n",
       "      <th rowspan=\"5\" valign=\"top\">3</th>\n",
       "      <th rowspan=\"5\" valign=\"top\">2016-04</th>\n",
       "      <th>Pow America</th>\n",
       "      <td>6.0</td>\n",
       "      <td>59362.200</td>\n",
       "      <td>59.362200</td>\n",
       "    </tr>\n",
       "    <tr>\n",
       "      <th>Pow Europe</th>\n",
       "      <td>384.0</td>\n",
       "      <td>1873872.290</td>\n",
       "      <td>1873.872290</td>\n",
       "    </tr>\n",
       "    <tr>\n",
       "      <th>Pow Japan</th>\n",
       "      <td>12.0</td>\n",
       "      <td>183000.000</td>\n",
       "      <td>183.000000</td>\n",
       "    </tr>\n",
       "    <tr>\n",
       "      <th>Pow Oceania</th>\n",
       "      <td>1.0</td>\n",
       "      <td>6151.710</td>\n",
       "      <td>6.151710</td>\n",
       "    </tr>\n",
       "    <tr>\n",
       "      <th>TA</th>\n",
       "      <td>3.0</td>\n",
       "      <td>24970.715</td>\n",
       "      <td>24.970715</td>\n",
       "    </tr>\n",
       "  </tbody>\n",
       "</table>\n",
       "</div>"
      ],
      "text/plain": [
       "                                                                        Sales Quantity  \\\n",
       "対象商材                     3rd Party or Inter Year-Month Display Co Name                   \n",
       "Catit Senses 2.0 Circuit 3                  2016-04     Pow America                6.0   \n",
       "                                                        Pow Europe               384.0   \n",
       "                                                        Pow Japan                 12.0   \n",
       "                                                        Pow Oceania                1.0   \n",
       "                                                       TA                          3.0   \n",
       "\n",
       "                                                                        Actual Sales (Ex)  \\\n",
       "対象商材                     3rd Party or Inter Year-Month Display Co Name                      \n",
       "Catit Senses 2.0 Circuit 3                  2016-04     Pow America             59362.200   \n",
       "                                                        Pow Europe            1873872.290   \n",
       "                                                        Pow Japan              183000.000   \n",
       "                                                        Pow Oceania              6151.710   \n",
       "                                                       TA                       24970.715   \n",
       "\n",
       "                                                                        Actual Sales (Ex) in 1000  \n",
       "対象商材                     3rd Party or Inter Year-Month Display Co Name                             \n",
       "Catit Senses 2.0 Circuit 3                  2016-04     Pow America                     59.362200  \n",
       "                                                        Pow Europe                    1873.872290  \n",
       "                                                        Pow Japan                      183.000000  \n",
       "                                                        Pow Oceania                      6.151710  \n",
       "                                                       TA                               24.970715  "
      ]
     },
     "execution_count": 32,
     "metadata": {},
     "output_type": "execute_result"
    }
   ],
   "source": [
    "display_cols = ['Year-Month', '3rd Party or Inter', 'Display Co Name', '対象商材', 'Sales Quantity', 'Actual Sales (Ex)']\n",
    "agg_cols = ['対象商材', '3rd Party or Inter' ,'Year-Month', 'Display Co Name']\n",
    "\n",
    "agg_sales_last5FY = standardize_sales_data[display_cols].groupby(by=agg_cols).sum()\n",
    "agg_sales_last5FY['Actual Sales (Ex) in 1000']  = agg_sales_last5FY['Actual Sales (Ex)']/1000\n",
    "\n",
    "agg_sales_last5FY.head()"
   ]
  },
  {
   "cell_type": "code",
   "execution_count": 33,
   "metadata": {
    "collapsed": false
   },
   "outputs": [],
   "source": [
    "output_file = outputPath + 'Agg_Results_{0}.xlsx'.format(d)\n",
    "agg_sales_last5FY.to_excel(output_file, sheet_name='Aggregated', index=False)\n",
    "\n",
    "#output_agg = r'C:\\Users\\ymatsukawa\\Documents\\Project\\OptionSales\\集計結果_Last5FY_{0}_new3.xlsx'.format(str(report_date.date()))\n",
    "#writer = pd.ExcelWriter(output_agg)\n",
    "\n",
    "#agg_sales_last5FY.reset_index().to_excel(writer, 'Aggregated', index=False)\n",
    "#writer.save()"
   ]
  },
  {
   "cell_type": "markdown",
   "metadata": {},
   "source": [
    "## Plot Graphs"
   ]
  },
  {
   "cell_type": "code",
   "execution_count": 34,
   "metadata": {
    "collapsed": false,
    "scrolled": false
   },
   "outputs": [
    {
     "name": "stdout",
     "output_type": "stream",
     "text": [
      "Creating a graph for Catit Senses 2.0 Circuit\n",
      "Creating a graph for Doggie Drinklets Portable Water Bowl\n",
      "Creating a graph for Drs. Foster & Smith Whack-a-Mouse Cat Toy\n",
      "Creating a graph for Facial Massage Roller for Cats\n",
      "Creating a graph for FireboltCreations Custom Pet Pillow\n",
      "Creating a graph for Furbo Dog Camera\n",
      "Creating a graph for H2O4K9 Doggy Water Bottle\n",
      "Creating a graph for Hammacher Schlemmer Feline's Laser Chasing Scratch Post\n",
      "Creating a graph for Holiday & Subscription Box\n",
      "Creating a graph for Kong Rubber Dog Frisbee\n",
      "Creating a graph for Magic Latch Leash Connection Sytem\n",
      "Creating a graph for Modkat Litter Box\n",
      "Creating a graph for Munchiecat Sushi Cat Toys\n",
      "Creating a graph for Non target products\n",
      "Creating a graph for Pet Bed & Comfort\n",
      "Creating a graph for Pet Gear Pup Tub\n",
      "Creating a graph for Petcube Play\n",
      "Creating a graph for Pooch Selfie: The Original Dog Selfie Stick\n",
      "Creating a graph for Siensync Interactive Feeder Dog Bowl\n",
      "Creating a graph for Sneaker Pet Bed \n",
      "Creating a graph for The Honest Kitchen Bone Broth\n",
      "Creating a graph for U-pet Carriers\n",
      "Creating a graph for Victoruan Cozy Kennel\n",
      "Creating a graph for Wobble Wag Giggle Ball\n",
      "Creating a graph for Woof Washer 360 by BulbHead\n"
     ]
    }
   ],
   "source": [
    "# Create Last FY and This FY's data df and plot charts, save to files\n",
    "\n",
    "# Convert date to 'Month'-period\n",
    "report_date_mo = report_date.to_period('m')\n",
    "current_FY_start_mo = current_FY_start.to_period('m')\n",
    "last_FY_start_mo = last_FY_start.to_period('m')\n",
    "last_FY_end_mo = (current_FY_start-relativedelta(months=1)).to_period('m')\n",
    "\n",
    "\n",
    "reset_data = agg_sales_last5FY.reset_index()\n",
    "\n",
    "for item in report_items:\n",
    "    print('Creating a graph for', item)\n",
    "    \n",
    "    temp2 = utils.getChartData(reset_data, item, last_FY_start_mo, last_FY_start, report_date)\n",
    "    \n",
    "    # This FY data, pivotted (multiple columns for company) for stacked bar graph\n",
    "    df_thisFY_pivot = utils.get_thisFY_pivot_df(temp2, current_FY_start_mo, report_date_mo)\n",
    "\n",
    "    # This FY df, NOT pivotted for this FY line graph\n",
    "    chart_df_thisFY = utils.get_chart_df(temp2, current_FY_start_mo, report_date_mo)\n",
    "\n",
    "    # Last FY df, NOT pivotted for both bar and line graph\n",
    "    chart_df_lastFY = utils.get_chart_df(temp2, last_FY_start_mo, last_FY_end_mo)\n",
    "    \n",
    "    # Plot chart\n",
    "    utils.plotChart(df_thisFY_pivot, chart_df_thisFY, chart_df_lastFY, item, report_date, outputPath)\n"
   ]
  }
 ],
 "metadata": {
  "anaconda-cloud": {},
  "kernelspec": {
   "display_name": "Python [conda root]",
   "language": "python",
   "name": "conda-root-py"
  },
  "language_info": {
   "codemirror_mode": {
    "name": "ipython",
    "version": 3
   },
   "file_extension": ".py",
   "mimetype": "text/x-python",
   "name": "python",
   "nbconvert_exporter": "python",
   "pygments_lexer": "ipython3",
   "version": "3.5.2"
  }
 },
 "nbformat": 4,
 "nbformat_minor": 1
}
